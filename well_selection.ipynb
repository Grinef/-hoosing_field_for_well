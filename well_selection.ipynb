{
 "cells": [
  {
   "cell_type": "markdown",
   "metadata": {},
   "source": [
    "# Выбор локации для скважины"
   ]
  },
  {
   "cell_type": "markdown",
   "metadata": {},
   "source": [
    "Допустим, вы работаете в добывающей компании «ГлавРосГосНефть». Нужно решить, где бурить новую скважину.\n",
    "\n",
    "Вам предоставлены пробы нефти в трёх регионах: в каждом 10 000 месторождений, где измерили качество нефти и объём её запасов. Постройте модель машинного обучения, которая поможет определить регион, где добыча принесёт наибольшую прибыль. Проанализируйте возможную прибыль и риски техникой *Bootstrap.*\n",
    "\n",
    "Шаги для выбора локации:\n",
    "\n",
    "- В избранном регионе ищут месторождения, для каждого определяют значения признаков;\n",
    "- Строят модель и оценивают объём запасов;\n",
    "- Выбирают месторождения с самым высокими оценками значений. Количество месторождений зависит от бюджета компании и стоимости разработки одной скважины;\n",
    "- Прибыль равна суммарной прибыли отобранных месторождений."
   ]
  },
  {
   "cell_type": "markdown",
   "metadata": {},
   "source": [
    "**Импортирование модулей**"
   ]
  },
  {
   "cell_type": "code",
   "execution_count": 2,
   "metadata": {},
   "outputs": [],
   "source": [
    "import pandas as pd                                  # для выгрузки данных\n",
    "import numpy as np\n",
    "import os\n",
    "\n",
    "from sklearn.model_selection import train_test_split # для разбиения выборок\n",
    "from sklearn.preprocessing import StandardScaler     # для масштабирования\n",
    "\n",
    "from sklearn.linear_model import LinearRegression    # модель, которая будет обучаться\n",
    "\n",
    "from sklearn.metrics import mean_squared_error\n",
    "\n",
    "from typing import Union\n",
    "from itertools import chain"
   ]
  },
  {
   "cell_type": "markdown",
   "metadata": {},
   "source": [
    "## Загрузка и подготовка данных"
   ]
  },
  {
   "cell_type": "code",
   "execution_count": 4,
   "metadata": {},
   "outputs": [],
   "source": [
    "os.chdir(r'C:\\Users\\Grine\\Desktop\\GitHub\\YandexPracticum\\6 МАШИННОЕ ОБУЧЕНИЕ В БИЗНЕСЕ\\\\')"
   ]
  },
  {
   "cell_type": "code",
   "execution_count": 6,
   "metadata": {},
   "outputs": [],
   "source": [
    "# загрузим исходные данные\n",
    "data0 = pd.read_csv('geo_data_0.csv')\n",
    "data1 = pd.read_csv('geo_data_1.csv')\n",
    "data2 = pd.read_csv('geo_data_2.csv')"
   ]
  },
  {
   "cell_type": "code",
   "execution_count": 7,
   "metadata": {},
   "outputs": [
    {
     "name": "stdout",
     "output_type": "stream",
     "text": [
      "<class 'pandas.core.frame.DataFrame'>\n",
      "RangeIndex: 100000 entries, 0 to 99999\n",
      "Data columns (total 5 columns):\n",
      " #   Column   Non-Null Count   Dtype  \n",
      "---  ------   --------------   -----  \n",
      " 0   id       100000 non-null  object \n",
      " 1   f0       100000 non-null  float64\n",
      " 2   f1       100000 non-null  float64\n",
      " 3   f2       100000 non-null  float64\n",
      " 4   product  100000 non-null  float64\n",
      "dtypes: float64(4), object(1)\n",
      "memory usage: 3.8+ MB\n",
      "\n",
      "\n",
      "\n",
      "<class 'pandas.core.frame.DataFrame'>\n",
      "RangeIndex: 100000 entries, 0 to 99999\n",
      "Data columns (total 5 columns):\n",
      " #   Column   Non-Null Count   Dtype  \n",
      "---  ------   --------------   -----  \n",
      " 0   id       100000 non-null  object \n",
      " 1   f0       100000 non-null  float64\n",
      " 2   f1       100000 non-null  float64\n",
      " 3   f2       100000 non-null  float64\n",
      " 4   product  100000 non-null  float64\n",
      "dtypes: float64(4), object(1)\n",
      "memory usage: 3.8+ MB\n",
      "\n",
      "\n",
      "\n",
      "<class 'pandas.core.frame.DataFrame'>\n",
      "RangeIndex: 100000 entries, 0 to 99999\n",
      "Data columns (total 5 columns):\n",
      " #   Column   Non-Null Count   Dtype  \n",
      "---  ------   --------------   -----  \n",
      " 0   id       100000 non-null  object \n",
      " 1   f0       100000 non-null  float64\n",
      " 2   f1       100000 non-null  float64\n",
      " 3   f2       100000 non-null  float64\n",
      " 4   product  100000 non-null  float64\n",
      "dtypes: float64(4), object(1)\n",
      "memory usage: 3.8+ MB\n",
      "\n",
      "\n",
      "\n"
     ]
    }
   ],
   "source": [
    "#изучим данные:\n",
    "for i in [data0, data1, data2]:\n",
    "    i.info()\n",
    "    print('\\n'*2)"
   ]
  },
  {
   "cell_type": "markdown",
   "metadata": {},
   "source": [
    "**Выводы по данным:**\n",
    "\n",
    "    1) Пропуски в данных отсутсвуют;\n",
    "    2) f0, f1 и f2, признаки, для обучения модели;\n",
    "    3) product - целевой признак, который необходимо спрогнозировать;\n",
    "    4) столбец id - уникальный идентификатор, он не поможет в процессе обучения. От него можно    избавиться;\n",
    "    5) Необходимо оценить масштаб признаков;"
   ]
  },
  {
   "cell_type": "code",
   "execution_count": 8,
   "metadata": {},
   "outputs": [],
   "source": [
    "#Удалим не нужные поля и создадим список дата-фреймов\n",
    "data_all = [data0.drop('id', axis=1), data1.drop('id', axis=1), data2.drop('id', axis=1)] "
   ]
  },
  {
   "cell_type": "code",
   "execution_count": 9,
   "metadata": {},
   "outputs": [
    {
     "data": {
      "text/html": [
       "<div>\n",
       "<style scoped>\n",
       "    .dataframe tbody tr th:only-of-type {\n",
       "        vertical-align: middle;\n",
       "    }\n",
       "\n",
       "    .dataframe tbody tr th {\n",
       "        vertical-align: top;\n",
       "    }\n",
       "\n",
       "    .dataframe thead th {\n",
       "        text-align: right;\n",
       "    }\n",
       "</style>\n",
       "<table border=\"1\" class=\"dataframe\">\n",
       "  <thead>\n",
       "    <tr style=\"text-align: right;\">\n",
       "      <th></th>\n",
       "      <th>f0</th>\n",
       "      <th>f1</th>\n",
       "      <th>f2</th>\n",
       "      <th>product</th>\n",
       "    </tr>\n",
       "  </thead>\n",
       "  <tbody>\n",
       "    <tr>\n",
       "      <th>f0</th>\n",
       "      <td>1.00000</td>\n",
       "      <td>-0.44072</td>\n",
       "      <td>-0.00315</td>\n",
       "      <td>0.14354</td>\n",
       "    </tr>\n",
       "    <tr>\n",
       "      <th>f1</th>\n",
       "      <td>-0.44072</td>\n",
       "      <td>1.00000</td>\n",
       "      <td>0.00172</td>\n",
       "      <td>-0.19236</td>\n",
       "    </tr>\n",
       "    <tr>\n",
       "      <th>f2</th>\n",
       "      <td>-0.00315</td>\n",
       "      <td>0.00172</td>\n",
       "      <td>1.00000</td>\n",
       "      <td>0.48366</td>\n",
       "    </tr>\n",
       "  </tbody>\n",
       "</table>\n",
       "</div>"
      ],
      "text/plain": [
       "         f0       f1       f2  product\n",
       "f0  1.00000 -0.44072 -0.00315  0.14354\n",
       "f1 -0.44072  1.00000  0.00172 -0.19236\n",
       "f2 -0.00315  0.00172  1.00000  0.48366"
      ]
     },
     "metadata": {},
     "output_type": "display_data"
    },
    {
     "data": {
      "text/html": [
       "<div>\n",
       "<style scoped>\n",
       "    .dataframe tbody tr th:only-of-type {\n",
       "        vertical-align: middle;\n",
       "    }\n",
       "\n",
       "    .dataframe tbody tr th {\n",
       "        vertical-align: top;\n",
       "    }\n",
       "\n",
       "    .dataframe thead th {\n",
       "        text-align: right;\n",
       "    }\n",
       "</style>\n",
       "<table border=\"1\" class=\"dataframe\">\n",
       "  <thead>\n",
       "    <tr style=\"text-align: right;\">\n",
       "      <th></th>\n",
       "      <th>f0</th>\n",
       "      <th>f1</th>\n",
       "      <th>f2</th>\n",
       "      <th>product</th>\n",
       "    </tr>\n",
       "  </thead>\n",
       "  <tbody>\n",
       "    <tr>\n",
       "      <th>f0</th>\n",
       "      <td>1.00000</td>\n",
       "      <td>0.18229</td>\n",
       "      <td>-0.00178</td>\n",
       "      <td>-0.03049</td>\n",
       "    </tr>\n",
       "    <tr>\n",
       "      <th>f1</th>\n",
       "      <td>0.18229</td>\n",
       "      <td>1.00000</td>\n",
       "      <td>-0.00260</td>\n",
       "      <td>-0.01015</td>\n",
       "    </tr>\n",
       "    <tr>\n",
       "      <th>f2</th>\n",
       "      <td>-0.00178</td>\n",
       "      <td>-0.00260</td>\n",
       "      <td>1.00000</td>\n",
       "      <td>0.99940</td>\n",
       "    </tr>\n",
       "  </tbody>\n",
       "</table>\n",
       "</div>"
      ],
      "text/plain": [
       "         f0       f1       f2  product\n",
       "f0  1.00000  0.18229 -0.00178 -0.03049\n",
       "f1  0.18229  1.00000 -0.00260 -0.01015\n",
       "f2 -0.00178 -0.00260  1.00000  0.99940"
      ]
     },
     "metadata": {},
     "output_type": "display_data"
    },
    {
     "data": {
      "text/html": [
       "<div>\n",
       "<style scoped>\n",
       "    .dataframe tbody tr th:only-of-type {\n",
       "        vertical-align: middle;\n",
       "    }\n",
       "\n",
       "    .dataframe tbody tr th {\n",
       "        vertical-align: top;\n",
       "    }\n",
       "\n",
       "    .dataframe thead th {\n",
       "        text-align: right;\n",
       "    }\n",
       "</style>\n",
       "<table border=\"1\" class=\"dataframe\">\n",
       "  <thead>\n",
       "    <tr style=\"text-align: right;\">\n",
       "      <th></th>\n",
       "      <th>f0</th>\n",
       "      <th>f1</th>\n",
       "      <th>f2</th>\n",
       "      <th>product</th>\n",
       "    </tr>\n",
       "  </thead>\n",
       "  <tbody>\n",
       "    <tr>\n",
       "      <th>f0</th>\n",
       "      <td>1.00000</td>\n",
       "      <td>0.00053</td>\n",
       "      <td>-0.00045</td>\n",
       "      <td>-0.00199</td>\n",
       "    </tr>\n",
       "    <tr>\n",
       "      <th>f1</th>\n",
       "      <td>0.00053</td>\n",
       "      <td>1.00000</td>\n",
       "      <td>0.00078</td>\n",
       "      <td>-0.00101</td>\n",
       "    </tr>\n",
       "    <tr>\n",
       "      <th>f2</th>\n",
       "      <td>-0.00045</td>\n",
       "      <td>0.00078</td>\n",
       "      <td>1.00000</td>\n",
       "      <td>0.44587</td>\n",
       "    </tr>\n",
       "  </tbody>\n",
       "</table>\n",
       "</div>"
      ],
      "text/plain": [
       "         f0       f1       f2  product\n",
       "f0  1.00000  0.00053 -0.00045 -0.00199\n",
       "f1  0.00053  1.00000  0.00078 -0.00101\n",
       "f2 -0.00045  0.00078  1.00000  0.44587"
      ]
     },
     "metadata": {},
     "output_type": "display_data"
    }
   ],
   "source": [
    "# посмотрим корреляцию данных для каждого датасета\n",
    "[display(data.corr().round(5).head(3)) for data in data_all];"
   ]
  },
  {
   "cell_type": "markdown",
   "metadata": {},
   "source": [
    "**Видно, что признак f2 для второго дата-сета имеет практическую 100% корреляцию с целевым признаком. Это говорит о том, что результат линейной регрессии для второй модели, вероятнее всего будет наиболее точным.** "
   ]
  },
  {
   "cell_type": "code",
   "execution_count": 10,
   "metadata": {},
   "outputs": [
    {
     "data": {
      "text/html": [
       "<div>\n",
       "<style scoped>\n",
       "    .dataframe tbody tr th:only-of-type {\n",
       "        vertical-align: middle;\n",
       "    }\n",
       "\n",
       "    .dataframe tbody tr th {\n",
       "        vertical-align: top;\n",
       "    }\n",
       "\n",
       "    .dataframe thead th {\n",
       "        text-align: right;\n",
       "    }\n",
       "</style>\n",
       "<table border=\"1\" class=\"dataframe\">\n",
       "  <thead>\n",
       "    <tr style=\"text-align: right;\">\n",
       "      <th></th>\n",
       "      <th>f0</th>\n",
       "      <th>f1</th>\n",
       "      <th>f2</th>\n",
       "      <th>product</th>\n",
       "    </tr>\n",
       "  </thead>\n",
       "  <tbody>\n",
       "    <tr>\n",
       "      <th>count</th>\n",
       "      <td>100000.00</td>\n",
       "      <td>100000.00</td>\n",
       "      <td>100000.00</td>\n",
       "      <td>100000.00</td>\n",
       "    </tr>\n",
       "    <tr>\n",
       "      <th>mean</th>\n",
       "      <td>0.50</td>\n",
       "      <td>0.25</td>\n",
       "      <td>2.50</td>\n",
       "      <td>92.50</td>\n",
       "    </tr>\n",
       "    <tr>\n",
       "      <th>std</th>\n",
       "      <td>0.87</td>\n",
       "      <td>0.50</td>\n",
       "      <td>3.25</td>\n",
       "      <td>44.29</td>\n",
       "    </tr>\n",
       "    <tr>\n",
       "      <th>min</th>\n",
       "      <td>-1.41</td>\n",
       "      <td>-0.85</td>\n",
       "      <td>-12.09</td>\n",
       "      <td>0.00</td>\n",
       "    </tr>\n",
       "    <tr>\n",
       "      <th>25%</th>\n",
       "      <td>-0.07</td>\n",
       "      <td>-0.20</td>\n",
       "      <td>0.29</td>\n",
       "      <td>56.50</td>\n",
       "    </tr>\n",
       "    <tr>\n",
       "      <th>50%</th>\n",
       "      <td>0.50</td>\n",
       "      <td>0.25</td>\n",
       "      <td>2.52</td>\n",
       "      <td>91.85</td>\n",
       "    </tr>\n",
       "    <tr>\n",
       "      <th>75%</th>\n",
       "      <td>1.07</td>\n",
       "      <td>0.70</td>\n",
       "      <td>4.72</td>\n",
       "      <td>128.56</td>\n",
       "    </tr>\n",
       "    <tr>\n",
       "      <th>max</th>\n",
       "      <td>2.36</td>\n",
       "      <td>1.34</td>\n",
       "      <td>16.00</td>\n",
       "      <td>185.36</td>\n",
       "    </tr>\n",
       "  </tbody>\n",
       "</table>\n",
       "</div>"
      ],
      "text/plain": [
       "              f0         f1         f2    product\n",
       "count  100000.00  100000.00  100000.00  100000.00\n",
       "mean        0.50       0.25       2.50      92.50\n",
       "std         0.87       0.50       3.25      44.29\n",
       "min        -1.41      -0.85     -12.09       0.00\n",
       "25%        -0.07      -0.20       0.29      56.50\n",
       "50%         0.50       0.25       2.52      91.85\n",
       "75%         1.07       0.70       4.72     128.56\n",
       "max         2.36       1.34      16.00     185.36"
      ]
     },
     "metadata": {},
     "output_type": "display_data"
    },
    {
     "data": {
      "text/html": [
       "<div>\n",
       "<style scoped>\n",
       "    .dataframe tbody tr th:only-of-type {\n",
       "        vertical-align: middle;\n",
       "    }\n",
       "\n",
       "    .dataframe tbody tr th {\n",
       "        vertical-align: top;\n",
       "    }\n",
       "\n",
       "    .dataframe thead th {\n",
       "        text-align: right;\n",
       "    }\n",
       "</style>\n",
       "<table border=\"1\" class=\"dataframe\">\n",
       "  <thead>\n",
       "    <tr style=\"text-align: right;\">\n",
       "      <th></th>\n",
       "      <th>f0</th>\n",
       "      <th>f1</th>\n",
       "      <th>f2</th>\n",
       "      <th>product</th>\n",
       "    </tr>\n",
       "  </thead>\n",
       "  <tbody>\n",
       "    <tr>\n",
       "      <th>count</th>\n",
       "      <td>100000.00</td>\n",
       "      <td>100000.00</td>\n",
       "      <td>100000.00</td>\n",
       "      <td>100000.00</td>\n",
       "    </tr>\n",
       "    <tr>\n",
       "      <th>mean</th>\n",
       "      <td>1.14</td>\n",
       "      <td>-4.80</td>\n",
       "      <td>2.49</td>\n",
       "      <td>68.83</td>\n",
       "    </tr>\n",
       "    <tr>\n",
       "      <th>std</th>\n",
       "      <td>8.97</td>\n",
       "      <td>5.12</td>\n",
       "      <td>1.70</td>\n",
       "      <td>45.94</td>\n",
       "    </tr>\n",
       "    <tr>\n",
       "      <th>min</th>\n",
       "      <td>-31.61</td>\n",
       "      <td>-26.36</td>\n",
       "      <td>-0.02</td>\n",
       "      <td>0.00</td>\n",
       "    </tr>\n",
       "    <tr>\n",
       "      <th>25%</th>\n",
       "      <td>-6.30</td>\n",
       "      <td>-8.27</td>\n",
       "      <td>1.00</td>\n",
       "      <td>26.95</td>\n",
       "    </tr>\n",
       "    <tr>\n",
       "      <th>50%</th>\n",
       "      <td>1.15</td>\n",
       "      <td>-4.81</td>\n",
       "      <td>2.01</td>\n",
       "      <td>57.09</td>\n",
       "    </tr>\n",
       "    <tr>\n",
       "      <th>75%</th>\n",
       "      <td>8.62</td>\n",
       "      <td>-1.33</td>\n",
       "      <td>4.00</td>\n",
       "      <td>107.81</td>\n",
       "    </tr>\n",
       "    <tr>\n",
       "      <th>max</th>\n",
       "      <td>29.42</td>\n",
       "      <td>18.73</td>\n",
       "      <td>5.02</td>\n",
       "      <td>137.95</td>\n",
       "    </tr>\n",
       "  </tbody>\n",
       "</table>\n",
       "</div>"
      ],
      "text/plain": [
       "              f0         f1         f2    product\n",
       "count  100000.00  100000.00  100000.00  100000.00\n",
       "mean        1.14      -4.80       2.49      68.83\n",
       "std         8.97       5.12       1.70      45.94\n",
       "min       -31.61     -26.36      -0.02       0.00\n",
       "25%        -6.30      -8.27       1.00      26.95\n",
       "50%         1.15      -4.81       2.01      57.09\n",
       "75%         8.62      -1.33       4.00     107.81\n",
       "max        29.42      18.73       5.02     137.95"
      ]
     },
     "metadata": {},
     "output_type": "display_data"
    },
    {
     "data": {
      "text/html": [
       "<div>\n",
       "<style scoped>\n",
       "    .dataframe tbody tr th:only-of-type {\n",
       "        vertical-align: middle;\n",
       "    }\n",
       "\n",
       "    .dataframe tbody tr th {\n",
       "        vertical-align: top;\n",
       "    }\n",
       "\n",
       "    .dataframe thead th {\n",
       "        text-align: right;\n",
       "    }\n",
       "</style>\n",
       "<table border=\"1\" class=\"dataframe\">\n",
       "  <thead>\n",
       "    <tr style=\"text-align: right;\">\n",
       "      <th></th>\n",
       "      <th>f0</th>\n",
       "      <th>f1</th>\n",
       "      <th>f2</th>\n",
       "      <th>product</th>\n",
       "    </tr>\n",
       "  </thead>\n",
       "  <tbody>\n",
       "    <tr>\n",
       "      <th>count</th>\n",
       "      <td>100000.00</td>\n",
       "      <td>100000.00</td>\n",
       "      <td>100000.00</td>\n",
       "      <td>100000.00</td>\n",
       "    </tr>\n",
       "    <tr>\n",
       "      <th>mean</th>\n",
       "      <td>0.00</td>\n",
       "      <td>-0.00</td>\n",
       "      <td>2.50</td>\n",
       "      <td>95.00</td>\n",
       "    </tr>\n",
       "    <tr>\n",
       "      <th>std</th>\n",
       "      <td>1.73</td>\n",
       "      <td>1.73</td>\n",
       "      <td>3.47</td>\n",
       "      <td>44.75</td>\n",
       "    </tr>\n",
       "    <tr>\n",
       "      <th>min</th>\n",
       "      <td>-8.76</td>\n",
       "      <td>-7.08</td>\n",
       "      <td>-11.97</td>\n",
       "      <td>0.00</td>\n",
       "    </tr>\n",
       "    <tr>\n",
       "      <th>25%</th>\n",
       "      <td>-1.16</td>\n",
       "      <td>-1.17</td>\n",
       "      <td>0.13</td>\n",
       "      <td>59.45</td>\n",
       "    </tr>\n",
       "    <tr>\n",
       "      <th>50%</th>\n",
       "      <td>0.01</td>\n",
       "      <td>-0.01</td>\n",
       "      <td>2.48</td>\n",
       "      <td>94.93</td>\n",
       "    </tr>\n",
       "    <tr>\n",
       "      <th>75%</th>\n",
       "      <td>1.16</td>\n",
       "      <td>1.16</td>\n",
       "      <td>4.86</td>\n",
       "      <td>130.60</td>\n",
       "    </tr>\n",
       "    <tr>\n",
       "      <th>max</th>\n",
       "      <td>7.24</td>\n",
       "      <td>7.84</td>\n",
       "      <td>16.74</td>\n",
       "      <td>190.03</td>\n",
       "    </tr>\n",
       "  </tbody>\n",
       "</table>\n",
       "</div>"
      ],
      "text/plain": [
       "              f0         f1         f2    product\n",
       "count  100000.00  100000.00  100000.00  100000.00\n",
       "mean        0.00      -0.00       2.50      95.00\n",
       "std         1.73       1.73       3.47      44.75\n",
       "min        -8.76      -7.08     -11.97       0.00\n",
       "25%        -1.16      -1.17       0.13      59.45\n",
       "50%         0.01      -0.01       2.48      94.93\n",
       "75%         1.16       1.16       4.86     130.60\n",
       "max         7.24       7.84      16.74     190.03"
      ]
     },
     "metadata": {},
     "output_type": "display_data"
    }
   ],
   "source": [
    "# дополнительно изучим, необходимо ли создавать логику \n",
    "[display(data.describe().round(2)) for data in data_all];"
   ]
  },
  {
   "cell_type": "markdown",
   "metadata": {},
   "source": [
    "**Поскольку мы видим, что во всех 3 датафреймах, стандартное отклонение разное, как и среднее значение, как и кол-во нефти в запасах, кажется, что стоит масштабировать данные, чтобы повысить точность потенциальной аналитики.**"
   ]
  },
  {
   "cell_type": "code",
   "execution_count": 11,
   "metadata": {},
   "outputs": [],
   "source": [
    "features_train_all = [] # создадим список всех выборок с параметрами для обучения\n",
    "features_valid_all = [] # создадим список всех выборок с параметрами для оценки результатов\n",
    "\n",
    "target_train_all = [] # создадим список всех выборок с целевым параметром для обучения\n",
    "target_valid_all = [] # создадим список всех выборок с целевым параметром для оценки результатов\n",
    "\n",
    "# пройдём циклом по всем данным и отберём нужные данные, заполним списки.\n",
    "for data in data_all:\n",
    "    features_train, features_valid, target_train, target_valid = train_test_split(data.iloc[:, :-1],\n",
    "                                                                                  data.iloc[:, -1:],\n",
    "                                                                                  test_size=0.25,\n",
    "                                                                                  random_state=12345) \n",
    "    features_train_all.append(features_train)\n",
    "    features_valid_all.append(features_valid)\n",
    "    target_train_all.append(target_train.values)\n",
    "    target_valid_all.append(target_valid.values)"
   ]
  },
  {
   "cell_type": "code",
   "execution_count": 12,
   "metadata": {},
   "outputs": [],
   "source": [
    "# пройдёмся циклом по всем параметрам и стандартизируем их\n",
    "for i, features_train_data in enumerate(features_train_all):\n",
    "    scaler = StandardScaler() # вызовем модель\n",
    "    scaler.fit(features_train_data) # обучим её на тестовых данных\n",
    "    features_train_all[i] = scaler.transform(features_train_data) # преобразуем данные в списке\n",
    "    features_valid_all[i] = scaler.transform(features_valid_all[i]) # преобразуем данные в списке"
   ]
  },
  {
   "cell_type": "markdown",
   "metadata": {},
   "source": [
    "**Перед масштабированием было принято решение разбить данные на обучающие и валидационную выборки**"
   ]
  },
  {
   "cell_type": "markdown",
   "metadata": {},
   "source": [
    "## Обучение и проверка модели"
   ]
  },
  {
   "cell_type": "code",
   "execution_count": 13,
   "metadata": {},
   "outputs": [],
   "source": [
    "def create_true_list(x: Union[np.ndarray, list, pd.core.frame.DataFrame],\n",
    "                     y: Union[np.ndarray, list, pd.core.frame.DataFrame]) -> list:\n",
    "    '''\n",
    "    Функция получает на входе 2 массива, списка или датафрейма. x-массив является предсказанием, а \n",
    "    y-массив - целевым параметром. Важно, чтобы у объектов x и y был схожий размер. \n",
    "    ------\n",
    "    На выходе, функция возвращает список из тех значений, которые совпали в переменное x и y.\n",
    "    '''  \n",
    "    variable = x.tolist() \n",
    "    return list(chain.from_iterable([variable[i] for i, (a, b) in enumerate(zip(x, y))\n",
    "                                if int(a) == int(b)]))"
   ]
  },
  {
   "cell_type": "code",
   "execution_count": 14,
   "metadata": {},
   "outputs": [
    {
     "name": "stdout",
     "output_type": "stream",
     "text": [
      "Для месторождения 1, модель в среднем предсказала 92 баррелей нефти\n",
      "Для модели 1 RMSE: 37.5794217150813\n",
      "Всего правильных предсказаний 0.01%\n",
      "\n",
      "\n",
      "Для месторождения 2, модель в среднем предсказала 68 баррелей нефти\n",
      "Для модели 2 RMSE: 0.893099286775617\n",
      "Всего правильных предсказаний 0.35%\n",
      "\n",
      "\n",
      "Для месторождения 3, модель в среднем предсказала 94 баррелей нефти\n",
      "Для модели 3 RMSE: 40.02970873393434\n",
      "Всего правильных предсказаний 0.01%\n",
      "\n",
      "\n"
     ]
    }
   ],
   "source": [
    "predicted_all = [] # переменная, куда будут записаны все предсказания линейной регресии\n",
    "true_results = []  # переменная, в которую будут отложены только правильно-предсказанные значения\n",
    "\n",
    "for i in range(3):\n",
    "    model = LinearRegression()                            # обратимся к моделе\n",
    "    model.fit(features_train_all[i], target_train_all[i]) # поочередно обучим её\n",
    "    predict = model.predict(features_valid_all[i])        # предскажем запасы\n",
    "    predicted_all.append(predict)\n",
    "    true_results.append(create_true_list(predict, target_valid_all[i]))\n",
    "    print(f'Для месторождения {i+1}, модель в среднем предсказала {int(predict.mean())} баррелей нефти')\n",
    "    print(f'Для модели {i+1} RMSE:', mean_squared_error(predict, target_valid_all[i])**0.5)\n",
    "    print(f'Всего правильных предсказаний {round(len(true_results[i])/len(target_valid_all[i]), 2)}%')\n",
    "    print('\\n')\n",
    "    "
   ]
  },
  {
   "cell_type": "markdown",
   "metadata": {},
   "source": [
    "**Во-первых, исходя из результатов аналитики, можно сделать вывод, что действительно точные предсказания (с погрешностью менее 1 барреля запасов, предоставляет 2 модель. Связано это, с тем, что именно во втором случае, мы наблюдаем значительную корреляцию признака f2. Для моделей линейной регресии, такое значение корреляции определяет очень значимый вес аргумента, что позволяет реализовывать успешные прогнозы.**\n",
    "\n",
    "**Во-вторых, среднее предсказанное значение модели совпало с средним, из исходного набора данных**\n",
    "\n",
    "**В-третьих, RMSE модели для 1 и 3 модели черезвычайно низкое (подразумевается, что при среднем кол-ве запасов в 90-92 барреля, ошибка на 37-40 у.е. черезвычайно опасна), однако, нам всё же удалось отобрать 200 необходимых (совпавших) значений, для дальнейшего проведения аналитики**\n",
    "\n"
   ]
  },
  {
   "cell_type": "markdown",
   "metadata": {},
   "source": [
    "## Подготовка к расчёту прибыли"
   ]
  },
  {
   "cell_type": "code",
   "execution_count": 15,
   "metadata": {},
   "outputs": [
    {
     "name": "stdout",
     "output_type": "stream",
     "text": [
      "Минимальное  среднее количество продукта в месторождениях региона, достаточное для разработки: 10000000\n",
      "Минимальное  среднее количество продукта в месторождение, для ренатбельной добычи: 111\n"
     ]
    }
   ],
   "source": [
    "BUDGET = 10_000_000_000\n",
    "BARREL_PRICE = 450\n",
    "PRODUCT_VALUES = 1_000\n",
    "product_price=BARREL_PRICE * PRODUCT_VALUES\n",
    "\n",
    "minimal_average_to_explore_region= BUDGET/PRODUCT_VALUES\n",
    "minimal_average_to_drilling_wells = BUDGET/200/product_price\n",
    "\n",
    "print('Минимальное  среднее количество продукта в месторождениях региона, достаточное для разработки:',\n",
    "      int(minimal_average_to_explore_region))\n",
    "\n",
    "print('Минимальное  среднее количество продукта в месторождение, для ренатбельной добычи:',\n",
    "      int(minimal_average_to_drilling_wells))"
   ]
  },
  {
   "cell_type": "markdown",
   "metadata": {},
   "source": [
    "**Для того, чтобы приступить к добычи, в месторождение региона необходимо, чтобы было 22222 баррелей**\n",
    "**Чтобы одно, случайно-взятое месторождение было рентабельным его запасы должны составлять 111 баррелей**"
   ]
  },
  {
   "cell_type": "code",
   "execution_count": 16,
   "metadata": {},
   "outputs": [],
   "source": [
    "def revenue(t, p,\n",
    "            pp=product_price,\n",
    "            count=200):\n",
    "    '''\n",
    "    t - реальные запасы на месторождение\n",
    "    p - массив из предсказаний запасов на месторождении\n",
    "    product_price - цена за n-ый объём баррелей\n",
    "        ____\n",
    "    Функция рассчитывает выручку для топ-200 месторождений\n",
    "    '''\n",
    "    sorted_p = p.sort_values(by='filter', ascending=False)\n",
    "    selected_data = t.loc[sorted_p.index][:count]\n",
    "    return selected_data.sum().values*pp - int(BUDGET)"
   ]
  },
  {
   "cell_type": "markdown",
   "metadata": {},
   "source": [
    "## Расчёт прибыли и рисков "
   ]
  },
  {
   "cell_type": "code",
   "execution_count": 17,
   "metadata": {},
   "outputs": [
    {
     "name": "stdout",
     "output_type": "stream",
     "text": [
      "Исследование метрик для региона №1\n",
      "-----------------------------------------\n",
      "Средняя прибыль для региона составляет: 425938526\n",
      "0.025 доверительный интервал по прибыли для региона составляет: -102090094\n",
      "0.975 доверительный интервал по прибыли для региона составляет: 947976353\n",
      "Риск убытков для региона составляет: 6.0 \n",
      "\n",
      "\n",
      "Исследование метрик для региона №2\n",
      "-----------------------------------------\n",
      "Средняя прибыль для региона составляет: 518259493\n",
      "0.025 доверительный интервал по прибыли для региона составляет: 128123231\n",
      "0.975 доверительный интервал по прибыли для региона составляет: 953612982\n",
      "Риск убытков для региона составляет: 0.3 \n",
      "\n",
      "\n",
      "Исследование метрик для региона №3\n",
      "-----------------------------------------\n",
      "Средняя прибыль для региона составляет: 420194005\n",
      "0.025 доверительный интервал по прибыли для региона составляет: -115852609\n",
      "0.975 доверительный интервал по прибыли для региона составляет: 989629939\n",
      "Риск убытков для региона составляет: 6.2 \n",
      "\n",
      "\n"
     ]
    }
   ],
   "source": [
    "state = np.random.RandomState(12345)\n",
    "\n",
    "values = []\n",
    "for i in range(3):\n",
    "    predict_to_subsample = pd.DataFrame(predicted_all[i])\n",
    "    target_to_subsample = pd.DataFrame(target_valid_all[i])\n",
    "    means = []\n",
    "    values.append(means)\n",
    "    for _ in range(1000):\n",
    "        predict_subsample = predict_to_subsample.sample(n=500,replace=True,random_state=state)\n",
    "        target_subsample = target_to_subsample.loc[predict_subsample.index]\n",
    "        predict_subsample.columns = ['filter']\n",
    "        target_subsample.columns = ['filter']\n",
    "        means.append(revenue(target_subsample, predict_subsample))\n",
    "\n",
    "    print(f'Исследование метрик для региона №{i+1}')\n",
    "    print('-----------------------------------------')\n",
    "    print(f'Средняя прибыль для региона составляет:', int(*pd.Series(values[i]).mean()))\n",
    "    print(f'0.025 доверительный интервал по прибыли для региона составляет:', int(*pd.Series(values[i]).quantile(0.025)))\n",
    "    print(f'0.975 доверительный интервал по прибыли для региона составляет:', int(*pd.Series(values[i]).quantile(0.975)))\n",
    "    print(f'Риск убытков для региона составляет:', (len([means for means in values[i] if means < 0])/len(values[i]))*100, '\\n'*2)\n"
   ]
  },
  {
   "cell_type": "markdown",
   "metadata": {},
   "source": [
    "В результате исследования было установлено, что наиболее потенциально прибыльным регионом является регион под номером - 2.\n",
    "Для этого региона характерно:\n",
    "    \n",
    "    1) Средняя потенциальная прибыль в размере: 518.259.493 у.е.\n",
    "    2) Нижняя граница доверительного интервала: 128.123.231 у.е.\n",
    "    3) Верхняя граница доверительного интервала: 953.612.982 у.е.\n",
    "    4) Риск убытков: 0.3%\n",
    "    \n",
    " При этом, стоит отметить, что работа происходила с разными статистическими выборками. Для второго региона наблюдался признак, которые имеет корреляцию стремяющуюясь к единицы. В связи с этим, моделью было отобрано большее кол-во месторождений. Тем не менее это не мешает сделать вывод о том, что именно второй регион является наиболее интересным для заказчика."
   ]
  }
 ],
 "metadata": {
  "ExecuteTimeLog": [
   {
    "duration": 429,
    "start_time": "2023-02-07T14:56:00.781Z"
   },
   {
    "duration": 401,
    "start_time": "2023-02-07T14:56:12.971Z"
   },
   {
    "duration": 52,
    "start_time": "2023-02-10T08:00:30.035Z"
   },
   {
    "duration": 456,
    "start_time": "2023-02-10T08:00:32.622Z"
   },
   {
    "duration": 543,
    "start_time": "2023-02-10T08:00:33.080Z"
   },
   {
    "duration": 570,
    "start_time": "2023-02-10T08:00:57.303Z"
   },
   {
    "duration": 623,
    "start_time": "2023-02-10T08:01:01.957Z"
   },
   {
    "duration": 419,
    "start_time": "2023-02-10T08:02:35.130Z"
   },
   {
    "duration": 393,
    "start_time": "2023-02-10T08:06:48.490Z"
   },
   {
    "duration": 13,
    "start_time": "2023-02-10T08:06:57.595Z"
   },
   {
    "duration": 37,
    "start_time": "2023-02-10T08:08:08.121Z"
   },
   {
    "duration": 8,
    "start_time": "2023-02-10T08:08:10.474Z"
   },
   {
    "duration": 10,
    "start_time": "2023-02-10T08:08:16.978Z"
   },
   {
    "duration": 38,
    "start_time": "2023-02-10T08:08:25.311Z"
   },
   {
    "duration": 36,
    "start_time": "2023-02-10T08:08:37.439Z"
   },
   {
    "duration": 32,
    "start_time": "2023-02-10T08:09:14.613Z"
   },
   {
    "duration": 15,
    "start_time": "2023-02-10T08:09:28.237Z"
   },
   {
    "duration": 8,
    "start_time": "2023-02-10T08:11:37.732Z"
   },
   {
    "duration": 8,
    "start_time": "2023-02-10T08:11:47.767Z"
   },
   {
    "duration": 4,
    "start_time": "2023-02-10T08:12:06.083Z"
   },
   {
    "duration": 4,
    "start_time": "2023-02-10T08:12:09.168Z"
   },
   {
    "duration": 7,
    "start_time": "2023-02-10T08:12:14.639Z"
   },
   {
    "duration": 383,
    "start_time": "2023-02-10T08:12:17.469Z"
   },
   {
    "duration": 7,
    "start_time": "2023-02-10T08:12:18.375Z"
   },
   {
    "duration": 38,
    "start_time": "2023-02-10T08:12:45.827Z"
   },
   {
    "duration": 4,
    "start_time": "2023-02-10T08:13:23.300Z"
   },
   {
    "duration": 18,
    "start_time": "2023-02-10T08:13:58.238Z"
   },
   {
    "duration": 12,
    "start_time": "2023-02-10T08:14:09.985Z"
   },
   {
    "duration": 5449,
    "start_time": "2023-02-10T08:14:28.076Z"
   },
   {
    "duration": 44,
    "start_time": "2023-02-10T08:16:17.581Z"
   },
   {
    "duration": 16,
    "start_time": "2023-02-10T08:53:54.994Z"
   },
   {
    "duration": 9,
    "start_time": "2023-02-10T08:53:59.685Z"
   },
   {
    "duration": 20,
    "start_time": "2023-02-10T08:54:04.392Z"
   },
   {
    "duration": 25,
    "start_time": "2023-02-10T08:54:27.275Z"
   },
   {
    "duration": 21,
    "start_time": "2023-02-10T08:54:43.151Z"
   },
   {
    "duration": 18,
    "start_time": "2023-02-10T08:54:56.680Z"
   },
   {
    "duration": 21,
    "start_time": "2023-02-10T08:55:08.239Z"
   },
   {
    "duration": 26,
    "start_time": "2023-02-10T08:55:15.505Z"
   },
   {
    "duration": 102,
    "start_time": "2023-02-10T08:55:26.270Z"
   },
   {
    "duration": 19,
    "start_time": "2023-02-10T08:55:51.013Z"
   },
   {
    "duration": 18,
    "start_time": "2023-02-10T08:56:08.984Z"
   },
   {
    "duration": 24,
    "start_time": "2023-02-10T08:56:14.802Z"
   },
   {
    "duration": 18,
    "start_time": "2023-02-10T08:56:22.982Z"
   },
   {
    "duration": 14,
    "start_time": "2023-02-10T08:56:30.802Z"
   },
   {
    "duration": 3,
    "start_time": "2023-02-10T08:57:25.019Z"
   },
   {
    "duration": 29,
    "start_time": "2023-02-10T08:57:51.912Z"
   },
   {
    "duration": 52,
    "start_time": "2023-02-10T08:58:09.796Z"
   },
   {
    "duration": 48,
    "start_time": "2023-02-10T08:58:49.907Z"
   },
   {
    "duration": 45,
    "start_time": "2023-02-10T08:58:55.497Z"
   },
   {
    "duration": 109,
    "start_time": "2023-02-10T08:59:35.560Z"
   },
   {
    "duration": 5,
    "start_time": "2023-02-10T08:59:44.101Z"
   },
   {
    "duration": 129,
    "start_time": "2023-02-10T08:59:48.258Z"
   },
   {
    "duration": 63,
    "start_time": "2023-02-10T08:59:52.501Z"
   },
   {
    "duration": 45,
    "start_time": "2023-02-10T09:00:00.936Z"
   },
   {
    "duration": 48,
    "start_time": "2023-02-10T09:00:15.065Z"
   },
   {
    "duration": 46,
    "start_time": "2023-02-10T09:00:55.434Z"
   },
   {
    "duration": 46,
    "start_time": "2023-02-10T09:01:06.274Z"
   },
   {
    "duration": 44,
    "start_time": "2023-02-10T09:01:21.217Z"
   },
   {
    "duration": 21,
    "start_time": "2023-02-10T09:02:04.398Z"
   },
   {
    "duration": 170,
    "start_time": "2023-02-10T09:02:10.020Z"
   },
   {
    "duration": 13,
    "start_time": "2023-02-10T09:02:24.918Z"
   },
   {
    "duration": 11,
    "start_time": "2023-02-10T09:02:31.327Z"
   },
   {
    "duration": 39,
    "start_time": "2023-02-10T09:02:46.094Z"
   },
   {
    "duration": 37,
    "start_time": "2023-02-10T09:02:53.289Z"
   },
   {
    "duration": 47,
    "start_time": "2023-02-10T09:03:05.649Z"
   },
   {
    "duration": 15,
    "start_time": "2023-02-10T09:04:43.911Z"
   },
   {
    "duration": 6,
    "start_time": "2023-02-10T09:05:00.282Z"
   },
   {
    "duration": 3,
    "start_time": "2023-02-10T09:05:07.667Z"
   },
   {
    "duration": 3,
    "start_time": "2023-02-10T09:05:47.238Z"
   },
   {
    "duration": 299,
    "start_time": "2023-02-10T09:06:03.640Z"
   },
   {
    "duration": 297,
    "start_time": "2023-02-10T09:06:15.612Z"
   },
   {
    "duration": 295,
    "start_time": "2023-02-10T09:06:19.852Z"
   },
   {
    "duration": 277,
    "start_time": "2023-02-10T09:06:42.097Z"
   },
   {
    "duration": 452,
    "start_time": "2023-02-10T09:07:58.658Z"
   },
   {
    "duration": 446,
    "start_time": "2023-02-10T09:08:02.886Z"
   },
   {
    "duration": 7865,
    "start_time": "2023-02-10T09:08:26.291Z"
   },
   {
    "duration": 156,
    "start_time": "2023-02-10T09:08:58.868Z"
   },
   {
    "duration": 14,
    "start_time": "2023-02-10T11:15:42.655Z"
   },
   {
    "duration": 50,
    "start_time": "2023-02-10T11:15:47.117Z"
   },
   {
    "duration": 13,
    "start_time": "2023-02-10T11:20:08.681Z"
   },
   {
    "duration": 46,
    "start_time": "2023-02-10T11:20:09.657Z"
   },
   {
    "duration": 3,
    "start_time": "2023-02-10T11:24:06.669Z"
   },
   {
    "duration": 414,
    "start_time": "2023-02-10T11:24:12.021Z"
   },
   {
    "duration": 52,
    "start_time": "2023-02-10T11:24:12.437Z"
   },
   {
    "duration": 12,
    "start_time": "2023-02-10T11:24:52.911Z"
   },
   {
    "duration": 43,
    "start_time": "2023-02-10T11:24:53.426Z"
   },
   {
    "duration": 11,
    "start_time": "2023-02-10T11:26:15.274Z"
   },
   {
    "duration": 9,
    "start_time": "2023-02-10T11:27:22.158Z"
   },
   {
    "duration": 24,
    "start_time": "2023-02-10T11:27:28.047Z"
   },
   {
    "duration": 17,
    "start_time": "2023-02-10T11:27:39.018Z"
   },
   {
    "duration": 9,
    "start_time": "2023-02-10T11:29:21.376Z"
   },
   {
    "duration": 11,
    "start_time": "2023-02-10T11:29:25.099Z"
   },
   {
    "duration": 15,
    "start_time": "2023-02-10T11:31:18.125Z"
   },
   {
    "duration": 9,
    "start_time": "2023-02-10T11:31:36.964Z"
   },
   {
    "duration": 10,
    "start_time": "2023-02-10T11:32:02.053Z"
   },
   {
    "duration": 4,
    "start_time": "2023-02-10T11:32:05.008Z"
   },
   {
    "duration": 4,
    "start_time": "2023-02-10T11:32:07.451Z"
   },
   {
    "duration": 15,
    "start_time": "2023-02-10T11:32:19.444Z"
   },
   {
    "duration": 4,
    "start_time": "2023-02-10T11:32:40.549Z"
   },
   {
    "duration": 4,
    "start_time": "2023-02-10T11:32:44.830Z"
   },
   {
    "duration": 4,
    "start_time": "2023-02-10T11:33:02.041Z"
   },
   {
    "duration": 13,
    "start_time": "2023-02-10T11:33:16.738Z"
   },
   {
    "duration": 3,
    "start_time": "2023-02-10T11:33:37.912Z"
   },
   {
    "duration": 5,
    "start_time": "2023-02-10T11:34:00.255Z"
   },
   {
    "duration": 47,
    "start_time": "2023-02-10T11:35:04.495Z"
   },
   {
    "duration": 10,
    "start_time": "2023-02-10T11:36:14.672Z"
   },
   {
    "duration": 4,
    "start_time": "2023-02-10T11:36:16.146Z"
   },
   {
    "duration": 13,
    "start_time": "2023-02-10T11:37:09.420Z"
   },
   {
    "duration": 13,
    "start_time": "2023-02-10T11:37:17.387Z"
   },
   {
    "duration": 16,
    "start_time": "2023-02-10T11:38:17.683Z"
   },
   {
    "duration": 6,
    "start_time": "2023-02-10T11:38:19.021Z"
   },
   {
    "duration": 17,
    "start_time": "2023-02-10T11:38:45.358Z"
   },
   {
    "duration": 17,
    "start_time": "2023-02-10T11:38:47.883Z"
   },
   {
    "duration": 6,
    "start_time": "2023-02-10T11:38:49.114Z"
   },
   {
    "duration": 25,
    "start_time": "2023-02-10T11:39:30.218Z"
   },
   {
    "duration": 26,
    "start_time": "2023-02-10T11:39:46.868Z"
   },
   {
    "duration": 25,
    "start_time": "2023-02-10T11:39:50.913Z"
   },
   {
    "duration": 6,
    "start_time": "2023-02-10T11:39:51.970Z"
   },
   {
    "duration": 12,
    "start_time": "2023-02-10T11:39:56.729Z"
   },
   {
    "duration": 4,
    "start_time": "2023-02-10T11:39:57.084Z"
   },
   {
    "duration": 19,
    "start_time": "2023-02-10T11:40:00.635Z"
   },
   {
    "duration": 4,
    "start_time": "2023-02-10T11:40:00.897Z"
   },
   {
    "duration": 18,
    "start_time": "2023-02-10T11:40:35.236Z"
   },
   {
    "duration": 5,
    "start_time": "2023-02-10T11:40:35.653Z"
   },
   {
    "duration": 18,
    "start_time": "2023-02-10T11:40:43.498Z"
   },
   {
    "duration": 4,
    "start_time": "2023-02-10T11:40:43.950Z"
   },
   {
    "duration": 73,
    "start_time": "2023-02-10T11:40:52.208Z"
   },
   {
    "duration": 4,
    "start_time": "2023-02-10T11:40:52.772Z"
   },
   {
    "duration": 17,
    "start_time": "2023-02-10T11:40:55.688Z"
   },
   {
    "duration": 5,
    "start_time": "2023-02-10T12:05:38.493Z"
   },
   {
    "duration": 4,
    "start_time": "2023-02-10T12:05:46.190Z"
   },
   {
    "duration": 8,
    "start_time": "2023-02-10T12:05:53.756Z"
   },
   {
    "duration": 8,
    "start_time": "2023-02-10T12:05:56.555Z"
   },
   {
    "duration": 4,
    "start_time": "2023-02-10T12:06:00.363Z"
   },
   {
    "duration": 11,
    "start_time": "2023-02-10T12:06:18.436Z"
   },
   {
    "duration": 73,
    "start_time": "2023-02-10T12:06:32.987Z"
   },
   {
    "duration": 16,
    "start_time": "2023-02-10T12:06:41.771Z"
   },
   {
    "duration": 10,
    "start_time": "2023-02-10T12:06:41.967Z"
   },
   {
    "duration": 16,
    "start_time": "2023-02-10T12:07:54.679Z"
   },
   {
    "duration": 11,
    "start_time": "2023-02-10T12:07:54.874Z"
   },
   {
    "duration": 4,
    "start_time": "2023-02-10T12:08:32.229Z"
   },
   {
    "duration": 12,
    "start_time": "2023-02-10T12:08:35.216Z"
   },
   {
    "duration": 4,
    "start_time": "2023-02-10T12:08:42.954Z"
   },
   {
    "duration": 11,
    "start_time": "2023-02-10T12:08:45.722Z"
   },
   {
    "duration": 6,
    "start_time": "2023-02-10T12:09:09.821Z"
   },
   {
    "duration": 19,
    "start_time": "2023-02-10T12:09:17.537Z"
   },
   {
    "duration": 19,
    "start_time": "2023-02-10T12:09:32.664Z"
   },
   {
    "duration": 10,
    "start_time": "2023-02-10T12:09:40.284Z"
   },
   {
    "duration": 8,
    "start_time": "2023-02-10T12:09:55.542Z"
   },
   {
    "duration": 11,
    "start_time": "2023-02-10T12:10:12.646Z"
   },
   {
    "duration": 75,
    "start_time": "2023-02-10T12:10:45.673Z"
   },
   {
    "duration": 17,
    "start_time": "2023-02-10T12:10:54.970Z"
   },
   {
    "duration": 5,
    "start_time": "2023-02-10T12:10:58.413Z"
   },
   {
    "duration": 19,
    "start_time": "2023-02-10T12:11:11.660Z"
   },
   {
    "duration": 5,
    "start_time": "2023-02-10T12:11:11.860Z"
   },
   {
    "duration": 5,
    "start_time": "2023-02-10T12:11:55.071Z"
   },
   {
    "duration": 5,
    "start_time": "2023-02-10T12:12:30.069Z"
   },
   {
    "duration": 10,
    "start_time": "2023-02-10T12:13:36.104Z"
   },
   {
    "duration": 10,
    "start_time": "2023-02-10T12:13:51.485Z"
   },
   {
    "duration": 15,
    "start_time": "2023-02-10T12:13:59.712Z"
   },
   {
    "duration": 3,
    "start_time": "2023-02-10T12:14:08.219Z"
   },
   {
    "duration": 4,
    "start_time": "2023-02-10T12:14:10.339Z"
   },
   {
    "duration": 5,
    "start_time": "2023-02-10T12:14:31.242Z"
   },
   {
    "duration": 7,
    "start_time": "2023-02-10T12:14:46.909Z"
   },
   {
    "duration": 7,
    "start_time": "2023-02-10T12:14:51.959Z"
   },
   {
    "duration": 2,
    "start_time": "2023-02-10T12:14:53.939Z"
   },
   {
    "duration": 4,
    "start_time": "2023-02-10T12:14:57.648Z"
   },
   {
    "duration": 3,
    "start_time": "2023-02-10T12:15:01.032Z"
   },
   {
    "duration": 4,
    "start_time": "2023-02-10T12:15:01.263Z"
   },
   {
    "duration": 13,
    "start_time": "2023-02-10T12:16:32.556Z"
   },
   {
    "duration": 18,
    "start_time": "2023-02-10T12:16:43.004Z"
   },
   {
    "duration": 3,
    "start_time": "2023-02-10T12:16:43.630Z"
   },
   {
    "duration": 23,
    "start_time": "2023-02-10T12:16:49.407Z"
   },
   {
    "duration": 4,
    "start_time": "2023-02-10T12:16:49.555Z"
   },
   {
    "duration": 11,
    "start_time": "2023-02-10T12:17:09.936Z"
   },
   {
    "duration": 18,
    "start_time": "2023-02-10T12:18:10.545Z"
   },
   {
    "duration": 5,
    "start_time": "2023-02-10T12:18:12.768Z"
   },
   {
    "duration": 10,
    "start_time": "2023-02-10T12:18:26.427Z"
   },
   {
    "duration": 6,
    "start_time": "2023-02-10T12:19:07.187Z"
   },
   {
    "duration": 4,
    "start_time": "2023-02-10T12:19:19.931Z"
   },
   {
    "duration": 4,
    "start_time": "2023-02-10T12:19:29.541Z"
   },
   {
    "duration": 19,
    "start_time": "2023-02-10T12:21:03.794Z"
   },
   {
    "duration": 8,
    "start_time": "2023-02-10T12:21:11.341Z"
   },
   {
    "duration": 4,
    "start_time": "2023-02-10T12:21:19.275Z"
   },
   {
    "duration": 5,
    "start_time": "2023-02-10T12:21:32.586Z"
   },
   {
    "duration": 4,
    "start_time": "2023-02-10T12:22:19.160Z"
   },
   {
    "duration": 12,
    "start_time": "2023-02-10T12:22:22.636Z"
   },
   {
    "duration": 12,
    "start_time": "2023-02-10T12:23:10.300Z"
   },
   {
    "duration": 9,
    "start_time": "2023-02-10T12:23:22.310Z"
   },
   {
    "duration": 11,
    "start_time": "2023-02-10T12:23:28.971Z"
   },
   {
    "duration": 13,
    "start_time": "2023-02-10T12:23:36.600Z"
   },
   {
    "duration": 7,
    "start_time": "2023-02-10T12:24:31.872Z"
   },
   {
    "duration": 27,
    "start_time": "2023-02-10T12:24:52.813Z"
   },
   {
    "duration": 8,
    "start_time": "2023-02-10T12:25:58.211Z"
   },
   {
    "duration": 4,
    "start_time": "2023-02-10T12:26:05.353Z"
   },
   {
    "duration": 2,
    "start_time": "2023-02-10T12:26:18.224Z"
   },
   {
    "duration": 55,
    "start_time": "2023-02-10T12:26:30.042Z"
   },
   {
    "duration": 12,
    "start_time": "2023-02-10T12:27:12.979Z"
   },
   {
    "duration": 54,
    "start_time": "2023-02-10T12:27:30.682Z"
   },
   {
    "duration": 52,
    "start_time": "2023-02-10T12:27:42.679Z"
   },
   {
    "duration": 12,
    "start_time": "2023-02-10T12:29:01.992Z"
   },
   {
    "duration": 11,
    "start_time": "2023-02-10T12:29:10.844Z"
   },
   {
    "duration": 12,
    "start_time": "2023-02-10T12:29:13.241Z"
   },
   {
    "duration": 9,
    "start_time": "2023-02-10T12:31:50.767Z"
   },
   {
    "duration": 11,
    "start_time": "2023-02-10T12:31:58.828Z"
   },
   {
    "duration": 20,
    "start_time": "2023-02-10T12:32:04.295Z"
   },
   {
    "duration": 34,
    "start_time": "2023-02-10T12:32:13.701Z"
   },
   {
    "duration": 19,
    "start_time": "2023-02-10T12:32:19.177Z"
   },
   {
    "duration": 36,
    "start_time": "2023-02-10T12:32:44.426Z"
   },
   {
    "duration": 24,
    "start_time": "2023-02-10T12:33:12.855Z"
   },
   {
    "duration": 7,
    "start_time": "2023-02-10T12:34:07.404Z"
   },
   {
    "duration": 21,
    "start_time": "2023-02-10T12:34:11.240Z"
   },
   {
    "duration": 12,
    "start_time": "2023-02-10T12:34:19.372Z"
   },
   {
    "duration": 20,
    "start_time": "2023-02-10T12:34:24.556Z"
   },
   {
    "duration": 12,
    "start_time": "2023-02-10T12:34:35.504Z"
   },
   {
    "duration": 15,
    "start_time": "2023-02-10T12:34:38.363Z"
   },
   {
    "duration": 13,
    "start_time": "2023-02-10T12:34:41.516Z"
   },
   {
    "duration": 18,
    "start_time": "2023-02-10T12:36:10.385Z"
   },
   {
    "duration": 20,
    "start_time": "2023-02-10T12:36:48.509Z"
   },
   {
    "duration": 22,
    "start_time": "2023-02-10T12:36:53.771Z"
   },
   {
    "duration": 11,
    "start_time": "2023-02-10T12:37:07.517Z"
   },
   {
    "duration": 16,
    "start_time": "2023-02-10T12:37:12.516Z"
   },
   {
    "duration": 22,
    "start_time": "2023-02-10T12:37:34.428Z"
   },
   {
    "duration": 18,
    "start_time": "2023-02-10T12:37:48.732Z"
   },
   {
    "duration": 28,
    "start_time": "2023-02-10T12:37:51.858Z"
   },
   {
    "duration": 19,
    "start_time": "2023-02-10T12:38:11.703Z"
   },
   {
    "duration": 34,
    "start_time": "2023-02-10T12:38:12.557Z"
   },
   {
    "duration": 24,
    "start_time": "2023-02-10T12:38:20.788Z"
   },
   {
    "duration": 11,
    "start_time": "2023-02-10T12:38:28.295Z"
   },
   {
    "duration": 36,
    "start_time": "2023-02-10T12:38:30.427Z"
   },
   {
    "duration": 24,
    "start_time": "2023-02-10T12:38:39.685Z"
   },
   {
    "duration": 14,
    "start_time": "2023-02-10T12:40:10.332Z"
   },
   {
    "duration": 13,
    "start_time": "2023-02-10T12:40:13.917Z"
   },
   {
    "duration": 22,
    "start_time": "2023-02-10T12:40:21.020Z"
   },
   {
    "duration": 37,
    "start_time": "2023-02-10T12:40:29.847Z"
   },
   {
    "duration": 23,
    "start_time": "2023-02-10T12:40:40.255Z"
   },
   {
    "duration": 9,
    "start_time": "2023-02-10T12:41:26.784Z"
   },
   {
    "duration": 18,
    "start_time": "2023-02-10T12:41:29.577Z"
   },
   {
    "duration": 9,
    "start_time": "2023-02-10T12:41:51.733Z"
   },
   {
    "duration": 52,
    "start_time": "2023-02-10T12:42:05.332Z"
   },
   {
    "duration": 10,
    "start_time": "2023-02-10T12:42:10.788Z"
   },
   {
    "duration": 41,
    "start_time": "2023-02-10T12:42:26.974Z"
   },
   {
    "duration": 25,
    "start_time": "2023-02-10T12:42:53.466Z"
   },
   {
    "duration": 40,
    "start_time": "2023-02-10T12:43:05.125Z"
   },
   {
    "duration": 17,
    "start_time": "2023-02-10T12:43:20.977Z"
   },
   {
    "duration": 23,
    "start_time": "2023-02-10T12:43:37.088Z"
   },
   {
    "duration": 5,
    "start_time": "2023-02-10T12:44:00.058Z"
   },
   {
    "duration": 8,
    "start_time": "2023-02-10T12:44:15.930Z"
   },
   {
    "duration": 9,
    "start_time": "2023-02-10T12:44:36.426Z"
   },
   {
    "duration": 8,
    "start_time": "2023-02-10T12:44:41.356Z"
   },
   {
    "duration": 6,
    "start_time": "2023-02-10T12:44:52.276Z"
   },
   {
    "duration": 4,
    "start_time": "2023-02-10T12:46:06.038Z"
   },
   {
    "duration": 13,
    "start_time": "2023-02-10T12:46:22.647Z"
   },
   {
    "duration": 11,
    "start_time": "2023-02-10T12:46:35.873Z"
   },
   {
    "duration": 9,
    "start_time": "2023-02-10T12:46:49.769Z"
   },
   {
    "duration": 11,
    "start_time": "2023-02-10T12:47:23.481Z"
   },
   {
    "duration": 10,
    "start_time": "2023-02-10T12:47:40.716Z"
   },
   {
    "duration": 10,
    "start_time": "2023-02-10T12:47:46.184Z"
   },
   {
    "duration": 9,
    "start_time": "2023-02-10T12:47:49.576Z"
   },
   {
    "duration": 14,
    "start_time": "2023-02-10T12:48:52.614Z"
   },
   {
    "duration": 10,
    "start_time": "2023-02-10T12:49:05.745Z"
   },
   {
    "duration": 12,
    "start_time": "2023-02-10T12:49:08.737Z"
   },
   {
    "duration": 9,
    "start_time": "2023-02-10T12:49:11.432Z"
   },
   {
    "duration": 83,
    "start_time": "2023-02-10T12:50:30.855Z"
   },
   {
    "duration": 229,
    "start_time": "2023-02-10T12:50:39.540Z"
   },
   {
    "duration": 127,
    "start_time": "2023-02-10T12:51:12.579Z"
   },
   {
    "duration": 12,
    "start_time": "2023-02-10T12:51:39.443Z"
   },
   {
    "duration": 9,
    "start_time": "2023-02-10T12:53:18.239Z"
   },
   {
    "duration": 28,
    "start_time": "2023-02-10T12:53:23.778Z"
   },
   {
    "duration": 9,
    "start_time": "2023-02-10T12:53:23.953Z"
   },
   {
    "duration": 10,
    "start_time": "2023-02-10T12:54:02.211Z"
   },
   {
    "duration": 18,
    "start_time": "2023-02-10T12:54:10.613Z"
   },
   {
    "duration": 9,
    "start_time": "2023-02-10T12:54:39.628Z"
   },
   {
    "duration": 13,
    "start_time": "2023-02-10T12:54:42.502Z"
   },
   {
    "duration": 48,
    "start_time": "2023-02-10T12:54:44.772Z"
   },
   {
    "duration": 120,
    "start_time": "2023-02-10T13:08:37.997Z"
   },
   {
    "duration": 55,
    "start_time": "2023-02-10T13:09:22.433Z"
   },
   {
    "duration": 133,
    "start_time": "2023-02-10T13:09:26.009Z"
   },
   {
    "duration": 13,
    "start_time": "2023-02-10T13:10:24.242Z"
   },
   {
    "duration": 12,
    "start_time": "2023-02-10T13:10:34.924Z"
   },
   {
    "duration": 880,
    "start_time": "2023-02-10T13:19:48.549Z"
   },
   {
    "duration": 12,
    "start_time": "2023-02-10T13:20:00.128Z"
   },
   {
    "duration": 7,
    "start_time": "2023-02-10T13:20:07.956Z"
   },
   {
    "duration": 4,
    "start_time": "2023-02-10T13:20:21.486Z"
   },
   {
    "duration": 396,
    "start_time": "2023-02-10T13:20:23.377Z"
   },
   {
    "duration": 41,
    "start_time": "2023-02-10T13:20:23.775Z"
   },
   {
    "duration": 8,
    "start_time": "2023-02-10T13:20:24.271Z"
   },
   {
    "duration": 60,
    "start_time": "2023-02-10T13:20:24.731Z"
   },
   {
    "duration": 1118,
    "start_time": "2023-02-10T13:20:33.954Z"
   },
   {
    "duration": 449,
    "start_time": "2023-02-10T13:20:35.074Z"
   },
   {
    "duration": 46,
    "start_time": "2023-02-10T13:20:35.525Z"
   },
   {
    "duration": 17,
    "start_time": "2023-02-10T13:20:35.574Z"
   },
   {
    "duration": 96,
    "start_time": "2023-02-10T13:20:35.593Z"
   },
   {
    "duration": 164,
    "start_time": "2023-02-10T13:20:35.691Z"
   },
   {
    "duration": 116,
    "start_time": "2023-02-10T13:21:01.061Z"
   },
   {
    "duration": 17,
    "start_time": "2023-02-10T13:21:05.468Z"
   },
   {
    "duration": 15,
    "start_time": "2023-02-10T13:22:32.844Z"
   },
   {
    "duration": 4,
    "start_time": "2023-02-10T13:22:53.391Z"
   },
   {
    "duration": 4,
    "start_time": "2023-02-10T13:23:20.963Z"
   },
   {
    "duration": 15,
    "start_time": "2023-02-10T13:23:27.848Z"
   },
   {
    "duration": 4,
    "start_time": "2023-02-10T13:24:00.321Z"
   },
   {
    "duration": 17,
    "start_time": "2023-02-10T13:24:08.217Z"
   },
   {
    "duration": 12,
    "start_time": "2023-02-10T13:24:12.136Z"
   },
   {
    "duration": 36,
    "start_time": "2023-02-10T13:27:50.482Z"
   },
   {
    "duration": 22,
    "start_time": "2023-02-10T13:27:58.688Z"
   },
   {
    "duration": 19,
    "start_time": "2023-02-10T13:28:11.591Z"
   },
   {
    "duration": 48,
    "start_time": "2023-02-10T13:28:19.951Z"
   },
   {
    "duration": 38,
    "start_time": "2023-02-10T13:28:54.886Z"
   },
   {
    "duration": 36,
    "start_time": "2023-02-10T13:29:01.178Z"
   },
   {
    "duration": 35,
    "start_time": "2023-02-10T13:29:05.531Z"
   },
   {
    "duration": 29,
    "start_time": "2023-02-10T13:32:27.348Z"
   },
   {
    "duration": 10,
    "start_time": "2023-02-10T13:34:43.086Z"
   },
   {
    "duration": 3,
    "start_time": "2023-02-10T13:34:48.459Z"
   },
   {
    "duration": 10,
    "start_time": "2023-02-10T13:34:56.619Z"
   },
   {
    "duration": 89,
    "start_time": "2023-02-10T13:36:18.767Z"
   },
   {
    "duration": 10,
    "start_time": "2023-02-10T13:36:23.558Z"
   },
   {
    "duration": 18,
    "start_time": "2023-02-10T13:37:16.578Z"
   },
   {
    "duration": 17,
    "start_time": "2023-02-10T13:47:16.521Z"
   },
   {
    "duration": 28,
    "start_time": "2023-02-10T13:47:24.120Z"
   },
   {
    "duration": 5,
    "start_time": "2023-02-10T13:47:33.857Z"
   },
   {
    "duration": 5,
    "start_time": "2023-02-10T13:47:42.389Z"
   },
   {
    "duration": 10,
    "start_time": "2023-02-10T13:47:58.006Z"
   },
   {
    "duration": 5,
    "start_time": "2023-02-10T13:48:04.332Z"
   },
   {
    "duration": 6,
    "start_time": "2023-02-10T13:49:23.098Z"
   },
   {
    "duration": 6,
    "start_time": "2023-02-10T13:49:28.376Z"
   },
   {
    "duration": 1047,
    "start_time": "2023-02-13T16:30:48.648Z"
   },
   {
    "duration": 872,
    "start_time": "2023-02-13T16:30:49.696Z"
   },
   {
    "duration": 32,
    "start_time": "2023-02-13T16:30:50.570Z"
   },
   {
    "duration": 10,
    "start_time": "2023-02-13T16:30:50.604Z"
   },
   {
    "duration": 53,
    "start_time": "2023-02-13T16:30:50.616Z"
   },
   {
    "duration": 115,
    "start_time": "2023-02-13T16:30:50.671Z"
   },
   {
    "duration": 55,
    "start_time": "2023-02-13T16:30:50.788Z"
   },
   {
    "duration": 33,
    "start_time": "2023-02-13T16:30:50.845Z"
   },
   {
    "duration": 4,
    "start_time": "2023-02-13T16:31:38.636Z"
   },
   {
    "duration": 122,
    "start_time": "2023-02-13T16:32:32.970Z"
   },
   {
    "duration": 8,
    "start_time": "2023-02-13T16:32:38.704Z"
   },
   {
    "duration": 9,
    "start_time": "2023-02-13T16:33:02.575Z"
   },
   {
    "duration": 19,
    "start_time": "2023-02-13T16:33:11.511Z"
   },
   {
    "duration": 12,
    "start_time": "2023-02-13T16:45:19.092Z"
   },
   {
    "duration": 3,
    "start_time": "2023-02-13T16:45:26.133Z"
   },
   {
    "duration": 5,
    "start_time": "2023-02-13T16:45:39.457Z"
   },
   {
    "duration": 9,
    "start_time": "2023-02-13T16:45:47.731Z"
   },
   {
    "duration": 3,
    "start_time": "2023-02-13T16:46:33.446Z"
   },
   {
    "duration": 11,
    "start_time": "2023-02-13T17:01:59.796Z"
   },
   {
    "duration": 9,
    "start_time": "2023-02-13T17:02:03.651Z"
   },
   {
    "duration": 2,
    "start_time": "2023-02-13T17:02:15.745Z"
   },
   {
    "duration": 4,
    "start_time": "2023-02-13T17:04:42.706Z"
   },
   {
    "duration": 4,
    "start_time": "2023-02-13T17:06:18.180Z"
   },
   {
    "duration": 13,
    "start_time": "2023-02-13T17:06:29.847Z"
   },
   {
    "duration": 10,
    "start_time": "2023-02-13T17:06:46.769Z"
   },
   {
    "duration": 8,
    "start_time": "2023-02-13T17:07:01.725Z"
   },
   {
    "duration": 13,
    "start_time": "2023-02-13T17:07:07.103Z"
   },
   {
    "duration": 9,
    "start_time": "2023-02-13T17:07:15.232Z"
   },
   {
    "duration": 17,
    "start_time": "2023-02-13T17:07:21.064Z"
   },
   {
    "duration": 3,
    "start_time": "2023-02-13T17:07:59.762Z"
   },
   {
    "duration": 3,
    "start_time": "2023-02-13T17:09:21.353Z"
   },
   {
    "duration": 28,
    "start_time": "2023-02-13T17:14:31.090Z"
   },
   {
    "duration": 98,
    "start_time": "2023-02-13T17:16:08.614Z"
   },
   {
    "duration": 36,
    "start_time": "2023-02-13T17:16:15.575Z"
   },
   {
    "duration": 10,
    "start_time": "2023-02-13T17:22:37.773Z"
   },
   {
    "duration": 3,
    "start_time": "2023-02-13T17:23:01.478Z"
   },
   {
    "duration": 9,
    "start_time": "2023-02-13T17:23:08.073Z"
   },
   {
    "duration": 5,
    "start_time": "2023-02-13T17:23:20.334Z"
   },
   {
    "duration": 3,
    "start_time": "2023-02-13T17:23:25.169Z"
   },
   {
    "duration": 10,
    "start_time": "2023-02-13T17:23:32.431Z"
   },
   {
    "duration": 10,
    "start_time": "2023-02-13T17:23:36.368Z"
   },
   {
    "duration": 10,
    "start_time": "2023-02-13T17:24:45.786Z"
   },
   {
    "duration": 3,
    "start_time": "2023-02-13T17:24:52.358Z"
   },
   {
    "duration": 9,
    "start_time": "2023-02-13T17:25:16.148Z"
   },
   {
    "duration": 1079,
    "start_time": "2023-02-13T17:25:31.309Z"
   },
   {
    "duration": 341,
    "start_time": "2023-02-13T17:25:32.390Z"
   },
   {
    "duration": 33,
    "start_time": "2023-02-13T17:25:32.733Z"
   },
   {
    "duration": 10,
    "start_time": "2023-02-13T17:25:32.768Z"
   },
   {
    "duration": 68,
    "start_time": "2023-02-13T17:25:32.780Z"
   },
   {
    "duration": 121,
    "start_time": "2023-02-13T17:25:32.849Z"
   },
   {
    "duration": 47,
    "start_time": "2023-02-13T17:25:32.972Z"
   },
   {
    "duration": 30,
    "start_time": "2023-02-13T17:25:33.021Z"
   },
   {
    "duration": 4,
    "start_time": "2023-02-13T17:25:33.053Z"
   },
   {
    "duration": 355,
    "start_time": "2023-02-13T17:25:33.059Z"
   },
   {
    "duration": 3,
    "start_time": "2023-02-13T17:27:10.936Z"
   },
   {
    "duration": 4,
    "start_time": "2023-02-13T17:28:49.833Z"
   },
   {
    "duration": 4,
    "start_time": "2023-02-13T17:29:26.889Z"
   },
   {
    "duration": 291,
    "start_time": "2023-02-13T17:30:17.698Z"
   },
   {
    "duration": 4,
    "start_time": "2023-02-13T17:31:01.628Z"
   },
   {
    "duration": 85,
    "start_time": "2023-02-13T17:31:02.126Z"
   },
   {
    "duration": 4,
    "start_time": "2023-02-13T17:31:12.742Z"
   },
   {
    "duration": 25,
    "start_time": "2023-02-13T17:31:13.187Z"
   },
   {
    "duration": 4,
    "start_time": "2023-02-13T17:32:26.133Z"
   },
   {
    "duration": 101,
    "start_time": "2023-02-13T17:32:26.611Z"
   },
   {
    "duration": 37,
    "start_time": "2023-02-13T17:32:54.880Z"
   },
   {
    "duration": 63,
    "start_time": "2023-02-13T17:33:03.448Z"
   },
   {
    "duration": 33,
    "start_time": "2023-02-13T17:34:26.878Z"
   },
   {
    "duration": 35,
    "start_time": "2023-02-13T17:35:11.677Z"
   },
   {
    "duration": 1096,
    "start_time": "2023-02-13T17:35:37.026Z"
   },
   {
    "duration": 349,
    "start_time": "2023-02-13T17:35:38.124Z"
   },
   {
    "duration": 41,
    "start_time": "2023-02-13T17:35:38.474Z"
   },
   {
    "duration": 11,
    "start_time": "2023-02-13T17:35:38.517Z"
   },
   {
    "duration": 64,
    "start_time": "2023-02-13T17:35:38.530Z"
   },
   {
    "duration": 115,
    "start_time": "2023-02-13T17:35:38.596Z"
   },
   {
    "duration": 29,
    "start_time": "2023-02-13T17:35:38.712Z"
   },
   {
    "duration": 24,
    "start_time": "2023-02-13T17:35:38.743Z"
   },
   {
    "duration": 7,
    "start_time": "2023-02-13T17:35:38.769Z"
   },
   {
    "duration": 132,
    "start_time": "2023-02-13T17:35:38.778Z"
   },
   {
    "duration": 80,
    "start_time": "2023-02-13T17:35:59.034Z"
   },
   {
    "duration": 235,
    "start_time": "2023-02-13T17:36:16.954Z"
   },
   {
    "duration": 156,
    "start_time": "2023-02-13T17:36:19.989Z"
   },
   {
    "duration": 27,
    "start_time": "2023-02-13T17:36:23.686Z"
   },
   {
    "duration": 28,
    "start_time": "2023-02-13T17:36:45.683Z"
   },
   {
    "duration": 4,
    "start_time": "2023-02-13T17:37:01.475Z"
   },
   {
    "duration": 189,
    "start_time": "2023-02-13T17:37:01.647Z"
   },
   {
    "duration": 5,
    "start_time": "2023-02-13T17:37:52.741Z"
   },
   {
    "duration": 4,
    "start_time": "2023-02-13T17:37:55.749Z"
   },
   {
    "duration": 11,
    "start_time": "2023-02-13T17:38:00.392Z"
   },
   {
    "duration": 27,
    "start_time": "2023-02-13T17:38:10.863Z"
   },
   {
    "duration": 24,
    "start_time": "2023-02-13T17:38:11.276Z"
   },
   {
    "duration": 4,
    "start_time": "2023-02-13T17:38:11.755Z"
   },
   {
    "duration": 4,
    "start_time": "2023-02-13T17:38:15.850Z"
   },
   {
    "duration": 1109,
    "start_time": "2023-02-13T17:38:21.699Z"
   },
   {
    "duration": 359,
    "start_time": "2023-02-13T17:38:22.810Z"
   },
   {
    "duration": 39,
    "start_time": "2023-02-13T17:38:23.171Z"
   },
   {
    "duration": 11,
    "start_time": "2023-02-13T17:38:23.213Z"
   },
   {
    "duration": 52,
    "start_time": "2023-02-13T17:38:23.225Z"
   },
   {
    "duration": 118,
    "start_time": "2023-02-13T17:38:23.278Z"
   },
   {
    "duration": 35,
    "start_time": "2023-02-13T17:38:23.397Z"
   },
   {
    "duration": 23,
    "start_time": "2023-02-13T17:38:23.433Z"
   },
   {
    "duration": 4,
    "start_time": "2023-02-13T17:38:23.458Z"
   },
   {
    "duration": 53,
    "start_time": "2023-02-13T17:38:23.464Z"
   },
   {
    "duration": 101,
    "start_time": "2023-02-13T17:39:38.733Z"
   },
   {
    "duration": 288,
    "start_time": "2023-02-13T17:39:42.454Z"
   },
   {
    "duration": 116,
    "start_time": "2023-02-13T17:40:26.275Z"
   },
   {
    "duration": 4,
    "start_time": "2023-02-13T17:40:32.846Z"
   },
   {
    "duration": 0,
    "start_time": "2023-02-13T17:41:11.641Z"
   },
   {
    "duration": 0,
    "start_time": "2023-02-13T17:41:11.642Z"
   },
   {
    "duration": 4,
    "start_time": "2023-02-13T17:41:13.527Z"
   },
   {
    "duration": 26701,
    "start_time": "2023-02-13T17:41:14.739Z"
   },
   {
    "duration": 3,
    "start_time": "2023-02-13T17:41:52.072Z"
   },
   {
    "duration": 1517,
    "start_time": "2023-02-13T17:41:54.312Z"
   },
   {
    "duration": 3,
    "start_time": "2023-02-13T17:42:10.766Z"
   },
   {
    "duration": 3032,
    "start_time": "2023-02-13T17:42:11.418Z"
   },
   {
    "duration": 106,
    "start_time": "2023-02-13T17:42:20.278Z"
   },
   {
    "duration": 3009,
    "start_time": "2023-02-13T17:42:20.447Z"
   },
   {
    "duration": 4,
    "start_time": "2023-02-13T17:42:25.084Z"
   },
   {
    "duration": 19,
    "start_time": "2023-02-13T17:42:26.625Z"
   },
   {
    "duration": 4,
    "start_time": "2023-02-13T17:42:33.170Z"
   },
   {
    "duration": 37920,
    "start_time": "2023-02-13T17:42:33.571Z"
   },
   {
    "duration": 4,
    "start_time": "2023-02-13T17:44:12.839Z"
   },
   {
    "duration": 0,
    "start_time": "2023-02-13T17:45:27.500Z"
   },
   {
    "duration": 0,
    "start_time": "2023-02-13T17:45:27.501Z"
   },
   {
    "duration": 4,
    "start_time": "2023-02-13T17:46:44.005Z"
   },
   {
    "duration": 1605,
    "start_time": "2023-02-13T17:46:44.423Z"
   },
   {
    "duration": 4,
    "start_time": "2023-02-13T17:47:32.310Z"
   },
   {
    "duration": 252,
    "start_time": "2023-02-13T17:47:32.672Z"
   },
   {
    "duration": 4,
    "start_time": "2023-02-13T17:47:54.781Z"
   },
   {
    "duration": 1740,
    "start_time": "2023-02-13T17:47:55.406Z"
   },
   {
    "duration": 4,
    "start_time": "2023-02-13T17:48:05.960Z"
   },
   {
    "duration": 602,
    "start_time": "2023-02-13T17:48:07.108Z"
   },
   {
    "duration": 3,
    "start_time": "2023-02-13T17:49:35.651Z"
   },
   {
    "duration": 1123,
    "start_time": "2023-02-13T17:49:38.276Z"
   },
   {
    "duration": 342,
    "start_time": "2023-02-13T17:49:39.401Z"
   },
   {
    "duration": 32,
    "start_time": "2023-02-13T17:49:39.744Z"
   },
   {
    "duration": 10,
    "start_time": "2023-02-13T17:49:39.778Z"
   },
   {
    "duration": 64,
    "start_time": "2023-02-13T17:49:39.790Z"
   },
   {
    "duration": 111,
    "start_time": "2023-02-13T17:49:39.856Z"
   },
   {
    "duration": 41,
    "start_time": "2023-02-13T17:49:39.969Z"
   },
   {
    "duration": 24,
    "start_time": "2023-02-13T17:49:40.011Z"
   },
   {
    "duration": 4,
    "start_time": "2023-02-13T17:49:40.037Z"
   },
   {
    "duration": 312,
    "start_time": "2023-02-13T17:49:40.043Z"
   },
   {
    "duration": 102,
    "start_time": "2023-02-13T17:50:45.502Z"
   },
   {
    "duration": 4,
    "start_time": "2023-02-13T17:50:48.982Z"
   },
   {
    "duration": 4,
    "start_time": "2023-02-13T17:50:59.457Z"
   },
   {
    "duration": 26,
    "start_time": "2023-02-13T17:51:01.294Z"
   },
   {
    "duration": 4,
    "start_time": "2023-02-13T17:51:33.793Z"
   },
   {
    "duration": 1215,
    "start_time": "2023-02-13T17:51:36.372Z"
   },
   {
    "duration": 356,
    "start_time": "2023-02-13T17:51:37.589Z"
   },
   {
    "duration": 35,
    "start_time": "2023-02-13T17:51:37.946Z"
   },
   {
    "duration": 10,
    "start_time": "2023-02-13T17:51:37.983Z"
   },
   {
    "duration": 52,
    "start_time": "2023-02-13T17:51:38.009Z"
   },
   {
    "duration": 118,
    "start_time": "2023-02-13T17:51:38.062Z"
   },
   {
    "duration": 41,
    "start_time": "2023-02-13T17:51:38.182Z"
   },
   {
    "duration": 25,
    "start_time": "2023-02-13T17:51:38.224Z"
   },
   {
    "duration": 5,
    "start_time": "2023-02-13T17:51:38.251Z"
   },
   {
    "duration": 652,
    "start_time": "2023-02-13T17:51:38.258Z"
   },
   {
    "duration": 4,
    "start_time": "2023-02-13T17:52:03.676Z"
   },
   {
    "duration": 472,
    "start_time": "2023-02-13T17:52:04.043Z"
   },
   {
    "duration": 4,
    "start_time": "2023-02-13T17:52:11.239Z"
   },
   {
    "duration": 525,
    "start_time": "2023-02-13T17:52:11.689Z"
   },
   {
    "duration": 3,
    "start_time": "2023-02-13T17:52:24.063Z"
   },
   {
    "duration": 603,
    "start_time": "2023-02-13T17:52:24.215Z"
   },
   {
    "duration": 4,
    "start_time": "2023-02-13T17:52:31.923Z"
   },
   {
    "duration": 463,
    "start_time": "2023-02-13T17:52:44.047Z"
   },
   {
    "duration": 21,
    "start_time": "2023-02-13T17:52:48.089Z"
   },
   {
    "duration": 15,
    "start_time": "2023-02-13T17:52:56.018Z"
   },
   {
    "duration": 6,
    "start_time": "2023-02-13T17:52:59.743Z"
   },
   {
    "duration": 4,
    "start_time": "2023-02-13T17:53:52.852Z"
   },
   {
    "duration": 529,
    "start_time": "2023-02-13T17:53:53.191Z"
   },
   {
    "duration": 51,
    "start_time": "2023-02-13T17:53:59.060Z"
   },
   {
    "duration": 4,
    "start_time": "2023-02-13T17:54:00.679Z"
   },
   {
    "duration": 111,
    "start_time": "2023-02-13T17:54:00.902Z"
   },
   {
    "duration": 4,
    "start_time": "2023-02-13T17:54:20.759Z"
   },
   {
    "duration": 73,
    "start_time": "2023-02-13T17:54:20.943Z"
   },
   {
    "duration": 1079,
    "start_time": "2023-02-13T17:54:30.020Z"
   },
   {
    "duration": 350,
    "start_time": "2023-02-13T17:54:31.101Z"
   },
   {
    "duration": 35,
    "start_time": "2023-02-13T17:54:31.453Z"
   },
   {
    "duration": 12,
    "start_time": "2023-02-13T17:54:31.490Z"
   },
   {
    "duration": 58,
    "start_time": "2023-02-13T17:54:31.510Z"
   },
   {
    "duration": 113,
    "start_time": "2023-02-13T17:54:31.570Z"
   },
   {
    "duration": 44,
    "start_time": "2023-02-13T17:54:31.684Z"
   },
   {
    "duration": 26,
    "start_time": "2023-02-13T17:54:31.730Z"
   },
   {
    "duration": 4,
    "start_time": "2023-02-13T17:54:31.757Z"
   },
   {
    "duration": 55,
    "start_time": "2023-02-13T17:54:31.764Z"
   },
   {
    "duration": 533,
    "start_time": "2023-02-13T17:55:35.998Z"
   },
   {
    "duration": 4,
    "start_time": "2023-02-13T17:55:38.572Z"
   },
   {
    "duration": 563,
    "start_time": "2023-02-13T17:55:38.747Z"
   },
   {
    "duration": 5,
    "start_time": "2023-02-13T17:55:53.543Z"
   },
   {
    "duration": 510,
    "start_time": "2023-02-13T17:55:53.735Z"
   },
   {
    "duration": 21,
    "start_time": "2023-02-13T17:55:58.112Z"
   },
   {
    "duration": 6,
    "start_time": "2023-02-13T17:56:03.779Z"
   },
   {
    "duration": 7,
    "start_time": "2023-02-13T17:56:09.389Z"
   },
   {
    "duration": 22,
    "start_time": "2023-02-13T17:56:11.752Z"
   },
   {
    "duration": 21,
    "start_time": "2023-02-13T17:56:15.652Z"
   },
   {
    "duration": 4,
    "start_time": "2023-02-13T17:56:21.730Z"
   },
   {
    "duration": 23,
    "start_time": "2023-02-13T17:56:24.058Z"
   },
   {
    "duration": 8,
    "start_time": "2023-02-13T17:56:26.586Z"
   },
   {
    "duration": 3,
    "start_time": "2023-02-13T17:56:32.067Z"
   },
   {
    "duration": 4,
    "start_time": "2023-02-13T17:56:35.126Z"
   },
   {
    "duration": 107,
    "start_time": "2023-02-13T17:56:37.551Z"
   },
   {
    "duration": 3,
    "start_time": "2023-02-13T17:56:41.177Z"
   },
   {
    "duration": 18,
    "start_time": "2023-02-13T17:57:21.057Z"
   },
   {
    "duration": 8,
    "start_time": "2023-02-13T17:57:28.329Z"
   },
   {
    "duration": 104,
    "start_time": "2023-02-13T17:57:36.912Z"
   },
   {
    "duration": 4,
    "start_time": "2023-02-13T17:58:05.632Z"
   },
   {
    "duration": 386,
    "start_time": "2023-02-13T17:58:05.828Z"
   },
   {
    "duration": 14,
    "start_time": "2023-02-13T17:58:08.808Z"
   },
   {
    "duration": 5,
    "start_time": "2023-02-13T17:58:13.762Z"
   },
   {
    "duration": 10,
    "start_time": "2023-02-13T17:58:17.156Z"
   },
   {
    "duration": 2,
    "start_time": "2023-02-13T17:59:06.891Z"
   },
   {
    "duration": 4,
    "start_time": "2023-02-13T17:59:12.582Z"
   },
   {
    "duration": 520,
    "start_time": "2023-02-13T17:59:24.798Z"
   },
   {
    "duration": 90,
    "start_time": "2023-02-13T17:59:25.321Z"
   },
   {
    "duration": 498,
    "start_time": "2023-02-13T17:59:26.915Z"
   },
   {
    "duration": 4,
    "start_time": "2023-02-13T17:59:27.414Z"
   },
   {
    "duration": 491,
    "start_time": "2023-02-13T17:59:29.425Z"
   },
   {
    "duration": 5,
    "start_time": "2023-02-13T17:59:29.918Z"
   },
   {
    "duration": 128,
    "start_time": "2023-02-13T18:05:29.019Z"
   },
   {
    "duration": 100,
    "start_time": "2023-02-13T18:05:43.208Z"
   },
   {
    "duration": 105,
    "start_time": "2023-02-13T18:06:27.957Z"
   },
   {
    "duration": 4,
    "start_time": "2023-02-13T18:06:32.236Z"
   },
   {
    "duration": 5,
    "start_time": "2023-02-13T18:06:40.603Z"
   },
   {
    "duration": 645,
    "start_time": "2023-02-13T18:06:41.147Z"
   },
   {
    "duration": 3,
    "start_time": "2023-02-13T18:06:42.991Z"
   },
   {
    "duration": 7,
    "start_time": "2023-02-13T18:07:21.020Z"
   },
   {
    "duration": 645,
    "start_time": "2023-02-13T18:07:21.208Z"
   },
   {
    "duration": 3,
    "start_time": "2023-02-13T18:07:22.548Z"
   },
   {
    "duration": 3,
    "start_time": "2023-02-13T18:10:59.558Z"
   },
   {
    "duration": 18,
    "start_time": "2023-02-13T18:10:59.825Z"
   },
   {
    "duration": 8,
    "start_time": "2023-02-13T18:11:00.217Z"
   },
   {
    "duration": 1052,
    "start_time": "2023-02-13T18:11:12.636Z"
   },
   {
    "duration": 349,
    "start_time": "2023-02-13T18:11:13.690Z"
   },
   {
    "duration": 33,
    "start_time": "2023-02-13T18:11:14.041Z"
   },
   {
    "duration": 10,
    "start_time": "2023-02-13T18:11:14.075Z"
   },
   {
    "duration": 59,
    "start_time": "2023-02-13T18:11:14.087Z"
   },
   {
    "duration": 108,
    "start_time": "2023-02-13T18:11:14.148Z"
   },
   {
    "duration": 28,
    "start_time": "2023-02-13T18:11:14.258Z"
   },
   {
    "duration": 39,
    "start_time": "2023-02-13T18:11:14.288Z"
   },
   {
    "duration": 4,
    "start_time": "2023-02-13T18:11:14.329Z"
   },
   {
    "duration": 257,
    "start_time": "2023-02-13T18:11:14.334Z"
   },
   {
    "duration": 0,
    "start_time": "2023-02-13T18:11:14.592Z"
   },
   {
    "duration": 484,
    "start_time": "2023-02-13T18:11:17.933Z"
   },
   {
    "duration": 3,
    "start_time": "2023-02-13T18:11:18.688Z"
   },
   {
    "duration": 4,
    "start_time": "2023-02-13T18:11:53.375Z"
   },
   {
    "duration": 124,
    "start_time": "2023-02-13T18:11:53.987Z"
   },
   {
    "duration": 4,
    "start_time": "2023-02-13T18:12:37.153Z"
   },
   {
    "duration": 243,
    "start_time": "2023-02-13T18:12:37.693Z"
   },
   {
    "duration": 5,
    "start_time": "2023-02-13T18:13:11.236Z"
   },
   {
    "duration": 492,
    "start_time": "2023-02-13T18:13:11.618Z"
   },
   {
    "duration": 12,
    "start_time": "2023-02-13T18:13:37.169Z"
   },
   {
    "duration": 4,
    "start_time": "2023-02-13T18:14:43.375Z"
   },
   {
    "duration": 688,
    "start_time": "2023-02-13T18:14:43.854Z"
   },
   {
    "duration": 24,
    "start_time": "2023-02-13T18:14:45.092Z"
   },
   {
    "duration": 3,
    "start_time": "2023-02-13T18:14:55.765Z"
   },
   {
    "duration": 4,
    "start_time": "2023-02-13T18:17:04.967Z"
   },
   {
    "duration": 703,
    "start_time": "2023-02-13T18:17:05.235Z"
   },
   {
    "duration": 4,
    "start_time": "2023-02-13T18:17:05.940Z"
   },
   {
    "duration": 4,
    "start_time": "2023-02-13T18:17:21.925Z"
   },
   {
    "duration": 721,
    "start_time": "2023-02-13T18:17:22.220Z"
   },
   {
    "duration": 3,
    "start_time": "2023-02-13T18:17:22.943Z"
   },
   {
    "duration": 3,
    "start_time": "2023-02-13T18:17:29.426Z"
   },
   {
    "duration": 477,
    "start_time": "2023-02-13T18:17:29.676Z"
   },
   {
    "duration": 3,
    "start_time": "2023-02-13T18:17:30.155Z"
   },
   {
    "duration": 4,
    "start_time": "2023-02-13T18:17:43.849Z"
   },
   {
    "duration": 321,
    "start_time": "2023-02-13T18:17:44.896Z"
   },
   {
    "duration": 4,
    "start_time": "2023-02-13T18:17:46.530Z"
   },
   {
    "duration": 9,
    "start_time": "2023-02-13T18:19:53.140Z"
   },
   {
    "duration": 10,
    "start_time": "2023-02-13T18:20:05.656Z"
   },
   {
    "duration": 3,
    "start_time": "2023-02-13T18:20:09.020Z"
   },
   {
    "duration": 1079,
    "start_time": "2023-02-13T18:20:49.026Z"
   },
   {
    "duration": 346,
    "start_time": "2023-02-13T18:20:50.106Z"
   },
   {
    "duration": 34,
    "start_time": "2023-02-13T18:20:50.453Z"
   },
   {
    "duration": 11,
    "start_time": "2023-02-13T18:20:50.488Z"
   },
   {
    "duration": 49,
    "start_time": "2023-02-13T18:20:50.511Z"
   },
   {
    "duration": 113,
    "start_time": "2023-02-13T18:20:50.562Z"
   },
   {
    "duration": 42,
    "start_time": "2023-02-13T18:20:50.677Z"
   },
   {
    "duration": 23,
    "start_time": "2023-02-13T18:20:50.720Z"
   },
   {
    "duration": 4,
    "start_time": "2023-02-13T18:20:50.745Z"
   },
   {
    "duration": 463,
    "start_time": "2023-02-13T18:20:50.750Z"
   },
   {
    "duration": 96,
    "start_time": "2023-02-13T18:20:51.214Z"
   },
   {
    "duration": 101,
    "start_time": "2023-02-13T18:20:51.312Z"
   },
   {
    "duration": 133,
    "start_time": "2023-02-13T18:21:56.422Z"
   },
   {
    "duration": 308,
    "start_time": "2023-02-13T18:22:01.707Z"
   },
   {
    "duration": 628,
    "start_time": "2023-02-13T18:22:15.282Z"
   },
   {
    "duration": 580,
    "start_time": "2023-02-13T18:22:56.729Z"
   },
   {
    "duration": 586,
    "start_time": "2023-02-13T18:23:08.465Z"
   },
   {
    "duration": 589,
    "start_time": "2023-02-13T18:23:17.861Z"
   },
   {
    "duration": 573,
    "start_time": "2023-02-13T18:23:23.538Z"
   },
   {
    "duration": 454,
    "start_time": "2023-02-13T18:23:32.261Z"
   },
   {
    "duration": 445,
    "start_time": "2023-02-13T18:25:32.267Z"
   },
   {
    "duration": 150,
    "start_time": "2023-02-13T18:25:48.261Z"
   },
   {
    "duration": 378,
    "start_time": "2023-02-13T18:25:52.647Z"
   },
   {
    "duration": 535,
    "start_time": "2023-02-13T18:26:02.876Z"
   },
   {
    "duration": 5,
    "start_time": "2023-02-13T18:26:49.235Z"
   },
   {
    "duration": 532,
    "start_time": "2023-02-13T18:26:49.420Z"
   },
   {
    "duration": 172,
    "start_time": "2023-02-13T18:27:35.041Z"
   },
   {
    "duration": 640,
    "start_time": "2023-02-13T18:27:51.710Z"
   },
   {
    "duration": 486,
    "start_time": "2023-02-13T18:28:23.433Z"
   },
   {
    "duration": 546,
    "start_time": "2023-02-13T18:28:28.864Z"
   },
   {
    "duration": 544,
    "start_time": "2023-02-13T18:28:38.276Z"
   },
   {
    "duration": 564,
    "start_time": "2023-02-13T18:29:08.447Z"
   },
   {
    "duration": 567,
    "start_time": "2023-02-13T18:29:15.179Z"
   },
   {
    "duration": 436,
    "start_time": "2023-02-13T18:29:21.181Z"
   },
   {
    "duration": 585,
    "start_time": "2023-02-13T18:29:53.525Z"
   },
   {
    "duration": 429,
    "start_time": "2023-02-13T18:30:38.682Z"
   },
   {
    "duration": 535,
    "start_time": "2023-02-13T18:30:53.775Z"
   },
   {
    "duration": 614,
    "start_time": "2023-02-13T18:31:15.334Z"
   },
   {
    "duration": 594,
    "start_time": "2023-02-13T18:31:45.517Z"
   },
   {
    "duration": 551,
    "start_time": "2023-02-13T18:31:56.660Z"
   },
   {
    "duration": 168,
    "start_time": "2023-02-13T18:36:38.777Z"
   },
   {
    "duration": 122,
    "start_time": "2023-02-13T18:36:43.189Z"
   },
   {
    "duration": 477,
    "start_time": "2023-02-13T18:36:57.443Z"
   },
   {
    "duration": 495,
    "start_time": "2023-02-13T18:37:15.727Z"
   },
   {
    "duration": 8,
    "start_time": "2023-02-13T18:41:40.949Z"
   },
   {
    "duration": 12,
    "start_time": "2023-02-13T18:41:43.029Z"
   },
   {
    "duration": 1708,
    "start_time": "2023-02-13T18:41:47.401Z"
   },
   {
    "duration": 10,
    "start_time": "2023-02-13T18:41:52.338Z"
   },
   {
    "duration": 11,
    "start_time": "2023-02-13T18:41:55.704Z"
   },
   {
    "duration": 12,
    "start_time": "2023-02-13T18:41:57.778Z"
   },
   {
    "duration": 11,
    "start_time": "2023-02-13T18:42:00.374Z"
   },
   {
    "duration": 7,
    "start_time": "2023-02-13T18:42:02.731Z"
   },
   {
    "duration": 12,
    "start_time": "2023-02-13T18:42:04.556Z"
   },
   {
    "duration": 8,
    "start_time": "2023-02-13T18:42:28.310Z"
   },
   {
    "duration": 787,
    "start_time": "2023-02-13T18:42:39.895Z"
   },
   {
    "duration": 4,
    "start_time": "2023-02-13T18:49:01.633Z"
   },
   {
    "duration": 4,
    "start_time": "2023-02-13T18:49:05.185Z"
   },
   {
    "duration": 2,
    "start_time": "2023-02-13T18:49:07.042Z"
   },
   {
    "duration": 3,
    "start_time": "2023-02-13T18:50:12.441Z"
   },
   {
    "duration": 3,
    "start_time": "2023-02-13T18:52:16.020Z"
   },
   {
    "duration": 3,
    "start_time": "2023-02-13T18:52:35.725Z"
   },
   {
    "duration": 3,
    "start_time": "2023-02-13T18:52:39.965Z"
   },
   {
    "duration": 3,
    "start_time": "2023-02-13T18:52:57.212Z"
   },
   {
    "duration": 5,
    "start_time": "2023-02-13T18:54:26.272Z"
   },
   {
    "duration": 3,
    "start_time": "2023-02-13T18:54:34.628Z"
   },
   {
    "duration": 4,
    "start_time": "2023-02-13T18:58:00.329Z"
   },
   {
    "duration": 5,
    "start_time": "2023-02-13T18:58:46.983Z"
   },
   {
    "duration": 4,
    "start_time": "2023-02-13T19:03:18.994Z"
   },
   {
    "duration": 5,
    "start_time": "2023-02-13T19:05:09.520Z"
   },
   {
    "duration": 2,
    "start_time": "2023-02-13T19:05:09.673Z"
   },
   {
    "duration": 4,
    "start_time": "2023-02-13T19:05:18.814Z"
   },
   {
    "duration": 4,
    "start_time": "2023-02-13T19:05:22.935Z"
   },
   {
    "duration": 4,
    "start_time": "2023-02-13T19:05:29.182Z"
   },
   {
    "duration": 5,
    "start_time": "2023-02-13T19:06:30.767Z"
   },
   {
    "duration": 5,
    "start_time": "2023-02-13T19:07:03.774Z"
   },
   {
    "duration": 104,
    "start_time": "2023-02-13T19:07:03.952Z"
   },
   {
    "duration": 17,
    "start_time": "2023-02-13T19:07:08.199Z"
   },
   {
    "duration": 4,
    "start_time": "2023-02-13T19:07:17.557Z"
   },
   {
    "duration": 4,
    "start_time": "2023-02-13T19:07:17.728Z"
   },
   {
    "duration": 4,
    "start_time": "2023-02-13T19:07:35.193Z"
   },
   {
    "duration": 4,
    "start_time": "2023-02-13T19:07:44.821Z"
   },
   {
    "duration": 4,
    "start_time": "2023-02-13T19:07:50.590Z"
   },
   {
    "duration": 155,
    "start_time": "2023-02-13T19:08:01.479Z"
   },
   {
    "duration": 97,
    "start_time": "2023-02-13T19:08:19.141Z"
   },
   {
    "duration": 7,
    "start_time": "2023-02-13T19:08:26.358Z"
   },
   {
    "duration": 5,
    "start_time": "2023-02-13T19:08:43.875Z"
   },
   {
    "duration": 3,
    "start_time": "2023-02-13T19:08:52.220Z"
   },
   {
    "duration": 3,
    "start_time": "2023-02-13T19:09:41.029Z"
   },
   {
    "duration": 5,
    "start_time": "2023-02-13T19:10:02.394Z"
   },
   {
    "duration": 421,
    "start_time": "2023-02-13T19:10:27.847Z"
   },
   {
    "duration": 6,
    "start_time": "2023-02-13T19:10:55.552Z"
   },
   {
    "duration": 6,
    "start_time": "2023-02-13T19:11:11.496Z"
   },
   {
    "duration": 3,
    "start_time": "2023-02-13T19:11:20.225Z"
   },
   {
    "duration": 3,
    "start_time": "2023-02-13T19:11:34.868Z"
   },
   {
    "duration": 3,
    "start_time": "2023-02-13T19:12:33.615Z"
   },
   {
    "duration": 4,
    "start_time": "2023-02-13T19:18:16.882Z"
   },
   {
    "duration": 15,
    "start_time": "2023-02-13T19:19:43.723Z"
   },
   {
    "duration": 112,
    "start_time": "2023-02-13T19:20:01.398Z"
   },
   {
    "duration": 90,
    "start_time": "2023-02-13T19:20:06.821Z"
   },
   {
    "duration": 111,
    "start_time": "2023-02-13T19:20:16.223Z"
   },
   {
    "duration": 97,
    "start_time": "2023-02-13T19:20:48.744Z"
   },
   {
    "duration": 97,
    "start_time": "2023-02-13T19:21:01.591Z"
   },
   {
    "duration": 16,
    "start_time": "2023-02-13T19:21:05.445Z"
   },
   {
    "duration": 2,
    "start_time": "2023-02-13T19:21:16.541Z"
   },
   {
    "duration": 414,
    "start_time": "2023-02-13T19:21:16.722Z"
   },
   {
    "duration": 3,
    "start_time": "2023-02-13T19:21:30.290Z"
   },
   {
    "duration": 7,
    "start_time": "2023-02-13T19:21:30.806Z"
   },
   {
    "duration": 3,
    "start_time": "2023-02-13T19:21:35.415Z"
   },
   {
    "duration": 14,
    "start_time": "2023-02-13T19:21:35.593Z"
   },
   {
    "duration": 3,
    "start_time": "2023-02-13T19:22:21.363Z"
   },
   {
    "duration": 13,
    "start_time": "2023-02-13T19:22:22.500Z"
   },
   {
    "duration": 3,
    "start_time": "2023-02-13T19:22:43.167Z"
   },
   {
    "duration": 8,
    "start_time": "2023-02-13T19:22:43.377Z"
   },
   {
    "duration": 2,
    "start_time": "2023-02-13T19:22:53.424Z"
   },
   {
    "duration": 13,
    "start_time": "2023-02-13T19:22:53.959Z"
   },
   {
    "duration": 3,
    "start_time": "2023-02-13T19:22:57.161Z"
   },
   {
    "duration": 7,
    "start_time": "2023-02-13T19:22:57.468Z"
   },
   {
    "duration": 3,
    "start_time": "2023-02-13T19:25:55.330Z"
   },
   {
    "duration": 3,
    "start_time": "2023-02-13T19:26:01.511Z"
   },
   {
    "duration": 3,
    "start_time": "2023-02-13T19:26:21.795Z"
   },
   {
    "duration": 3,
    "start_time": "2023-02-13T19:26:33.542Z"
   },
   {
    "duration": 20,
    "start_time": "2023-02-13T19:27:12.661Z"
   },
   {
    "duration": 29,
    "start_time": "2023-02-13T19:27:17.845Z"
   },
   {
    "duration": 4,
    "start_time": "2023-02-13T19:27:29.898Z"
   },
   {
    "duration": 30,
    "start_time": "2023-02-13T19:27:30.321Z"
   },
   {
    "duration": 3,
    "start_time": "2023-02-13T19:27:36.425Z"
   },
   {
    "duration": 32,
    "start_time": "2023-02-13T19:27:37.552Z"
   },
   {
    "duration": 3,
    "start_time": "2023-02-13T19:27:52.476Z"
   },
   {
    "duration": 22,
    "start_time": "2023-02-13T19:27:53.523Z"
   },
   {
    "duration": 3,
    "start_time": "2023-02-13T19:28:32.572Z"
   },
   {
    "duration": 29,
    "start_time": "2023-02-13T19:28:32.738Z"
   },
   {
    "duration": 3,
    "start_time": "2023-02-13T19:28:51.328Z"
   },
   {
    "duration": 24,
    "start_time": "2023-02-13T19:28:51.624Z"
   },
   {
    "duration": 27,
    "start_time": "2023-02-13T19:28:57.129Z"
   },
   {
    "duration": 3,
    "start_time": "2023-02-13T19:29:22.237Z"
   },
   {
    "duration": 28,
    "start_time": "2023-02-13T19:29:22.434Z"
   },
   {
    "duration": 3,
    "start_time": "2023-02-13T19:29:41.159Z"
   },
   {
    "duration": 31,
    "start_time": "2023-02-13T19:29:41.313Z"
   },
   {
    "duration": 3,
    "start_time": "2023-02-13T19:30:30.346Z"
   },
   {
    "duration": 28,
    "start_time": "2023-02-13T19:30:30.878Z"
   },
   {
    "duration": 3,
    "start_time": "2023-02-13T19:30:45.351Z"
   },
   {
    "duration": 42,
    "start_time": "2023-02-13T19:30:45.815Z"
   },
   {
    "duration": 4,
    "start_time": "2023-02-13T19:31:12.432Z"
   },
   {
    "duration": 26,
    "start_time": "2023-02-13T19:31:12.758Z"
   },
   {
    "duration": 4,
    "start_time": "2023-02-13T19:31:22.297Z"
   },
   {
    "duration": 27,
    "start_time": "2023-02-13T19:31:22.464Z"
   },
   {
    "duration": 4,
    "start_time": "2023-02-13T19:31:31.280Z"
   },
   {
    "duration": 31,
    "start_time": "2023-02-13T19:31:33.075Z"
   },
   {
    "duration": 4,
    "start_time": "2023-02-13T19:31:39.549Z"
   },
   {
    "duration": 25,
    "start_time": "2023-02-13T19:31:39.695Z"
   },
   {
    "duration": 5,
    "start_time": "2023-02-13T19:37:19.018Z"
   },
   {
    "duration": 4,
    "start_time": "2023-02-13T19:37:40.223Z"
   },
   {
    "duration": 9,
    "start_time": "2023-02-13T19:39:44.583Z"
   },
   {
    "duration": 4,
    "start_time": "2023-02-13T19:40:05.729Z"
   },
   {
    "duration": 9,
    "start_time": "2023-02-13T19:40:15.634Z"
   },
   {
    "duration": 8,
    "start_time": "2023-02-13T19:41:00.888Z"
   },
   {
    "duration": 10,
    "start_time": "2023-02-13T19:41:25.930Z"
   },
   {
    "duration": 10,
    "start_time": "2023-02-13T19:41:33.122Z"
   },
   {
    "duration": 5,
    "start_time": "2023-02-13T19:41:40.450Z"
   },
   {
    "duration": 8,
    "start_time": "2023-02-13T19:41:43.905Z"
   },
   {
    "duration": 6,
    "start_time": "2023-02-13T19:41:51.028Z"
   },
   {
    "duration": 6,
    "start_time": "2023-02-13T19:42:39.463Z"
   },
   {
    "duration": 19,
    "start_time": "2023-02-13T19:42:44.789Z"
   },
   {
    "duration": 5,
    "start_time": "2023-02-13T19:42:53.273Z"
   },
   {
    "duration": 16,
    "start_time": "2023-02-13T19:43:59.266Z"
   },
   {
    "duration": 4,
    "start_time": "2023-02-13T19:44:18.484Z"
   },
   {
    "duration": 14,
    "start_time": "2023-02-13T19:44:19.193Z"
   },
   {
    "duration": 3,
    "start_time": "2023-02-13T19:44:37.737Z"
   },
   {
    "duration": 15,
    "start_time": "2023-02-13T19:44:38.384Z"
   },
   {
    "duration": 14,
    "start_time": "2023-02-13T19:45:29.140Z"
   },
   {
    "duration": 13,
    "start_time": "2023-02-13T19:45:44.381Z"
   },
   {
    "duration": 23,
    "start_time": "2023-02-13T19:45:51.855Z"
   },
   {
    "duration": 14,
    "start_time": "2023-02-13T19:46:30.008Z"
   },
   {
    "duration": 3,
    "start_time": "2023-02-13T19:46:46.478Z"
   },
   {
    "duration": 16,
    "start_time": "2023-02-13T19:46:47.265Z"
   },
   {
    "duration": 3,
    "start_time": "2023-02-13T19:46:57.680Z"
   },
   {
    "duration": 15,
    "start_time": "2023-02-13T19:46:58.164Z"
   },
   {
    "duration": 3,
    "start_time": "2023-02-13T19:47:02.029Z"
   },
   {
    "duration": 15,
    "start_time": "2023-02-13T19:47:02.676Z"
   },
   {
    "duration": 17,
    "start_time": "2023-02-13T19:47:27.356Z"
   },
   {
    "duration": 3,
    "start_time": "2023-02-13T19:47:36.603Z"
   },
   {
    "duration": 19,
    "start_time": "2023-02-13T19:47:37.152Z"
   },
   {
    "duration": 16,
    "start_time": "2023-02-13T19:47:48.625Z"
   },
   {
    "duration": 18,
    "start_time": "2023-02-13T19:48:02.521Z"
   },
   {
    "duration": 16,
    "start_time": "2023-02-13T19:48:08.430Z"
   },
   {
    "duration": 5,
    "start_time": "2023-02-13T19:48:14.193Z"
   },
   {
    "duration": 17,
    "start_time": "2023-02-13T19:48:14.603Z"
   },
   {
    "duration": 17,
    "start_time": "2023-02-13T19:48:21.443Z"
   },
   {
    "duration": 12,
    "start_time": "2023-02-13T19:48:43.912Z"
   },
   {
    "duration": 12,
    "start_time": "2023-02-13T19:48:47.162Z"
   },
   {
    "duration": 143,
    "start_time": "2023-02-13T19:49:32.090Z"
   },
   {
    "duration": 101,
    "start_time": "2023-02-13T19:49:38.376Z"
   },
   {
    "duration": 88,
    "start_time": "2023-02-13T19:49:44.010Z"
   },
   {
    "duration": 14,
    "start_time": "2023-02-13T19:49:46.896Z"
   },
   {
    "duration": 13,
    "start_time": "2023-02-13T19:50:10.259Z"
   },
   {
    "duration": 12,
    "start_time": "2023-02-13T19:50:15.280Z"
   },
   {
    "duration": 13,
    "start_time": "2023-02-13T19:50:29.188Z"
   },
   {
    "duration": 5,
    "start_time": "2023-02-13T19:51:03.970Z"
   },
   {
    "duration": 5,
    "start_time": "2023-02-13T19:54:10.200Z"
   },
   {
    "duration": 5,
    "start_time": "2023-02-13T19:54:30.877Z"
   },
   {
    "duration": 4,
    "start_time": "2023-02-13T19:54:37.507Z"
   },
   {
    "duration": 3,
    "start_time": "2023-02-13T19:54:47.197Z"
   },
   {
    "duration": 2,
    "start_time": "2023-02-13T19:55:45.407Z"
   },
   {
    "duration": 10,
    "start_time": "2023-02-13T19:56:01.077Z"
   },
   {
    "duration": 9,
    "start_time": "2023-02-13T19:56:15.688Z"
   },
   {
    "duration": 4,
    "start_time": "2023-02-13T19:56:44.385Z"
   },
   {
    "duration": 4,
    "start_time": "2023-02-13T19:56:47.653Z"
   },
   {
    "duration": 9,
    "start_time": "2023-02-13T19:56:53.341Z"
   },
   {
    "duration": 8,
    "start_time": "2023-02-13T19:57:03.869Z"
   },
   {
    "duration": 6533,
    "start_time": "2023-02-13T19:57:57.165Z"
   },
   {
    "duration": 5357,
    "start_time": "2023-02-13T19:58:23.395Z"
   },
   {
    "duration": 14,
    "start_time": "2023-02-13T19:59:33.969Z"
   },
   {
    "duration": 5421,
    "start_time": "2023-02-13T20:01:17.166Z"
   },
   {
    "duration": 11,
    "start_time": "2023-02-13T20:01:55.498Z"
   },
   {
    "duration": 93,
    "start_time": "2023-02-13T20:01:59.868Z"
   },
   {
    "duration": 1779,
    "start_time": "2023-02-13T20:02:02.430Z"
   },
   {
    "duration": 14,
    "start_time": "2023-02-13T20:02:27.036Z"
   },
   {
    "duration": 14,
    "start_time": "2023-02-13T20:02:33.329Z"
   },
   {
    "duration": 11,
    "start_time": "2023-02-13T20:02:48.330Z"
   },
   {
    "duration": 13,
    "start_time": "2023-02-13T20:02:56.487Z"
   },
   {
    "duration": 360,
    "start_time": "2023-02-13T20:03:07.377Z"
   },
   {
    "duration": 1777,
    "start_time": "2023-02-13T20:03:16.638Z"
   },
   {
    "duration": 5251,
    "start_time": "2023-02-13T20:03:28.946Z"
   },
   {
    "duration": 4571,
    "start_time": "2023-02-13T20:04:17.040Z"
   },
   {
    "duration": 4,
    "start_time": "2023-02-13T20:05:09.575Z"
   },
   {
    "duration": 355,
    "start_time": "2023-02-13T20:05:46.182Z"
   },
   {
    "duration": 5477,
    "start_time": "2023-02-13T20:05:53.779Z"
   },
   {
    "duration": 368,
    "start_time": "2023-02-13T20:06:19.742Z"
   },
   {
    "duration": 354,
    "start_time": "2023-02-13T20:06:24.797Z"
   },
   {
    "duration": 2339,
    "start_time": "2023-02-13T20:07:59.289Z"
   },
   {
    "duration": 2306,
    "start_time": "2023-02-13T20:08:08.810Z"
   },
   {
    "duration": 7966,
    "start_time": "2023-02-13T20:08:14.434Z"
   },
   {
    "duration": 15,
    "start_time": "2023-02-13T20:09:10.244Z"
   },
   {
    "duration": 3,
    "start_time": "2023-02-13T20:09:19.549Z"
   },
   {
    "duration": 20,
    "start_time": "2023-02-13T20:09:21.307Z"
   },
   {
    "duration": 3,
    "start_time": "2023-02-13T20:09:26.939Z"
   },
   {
    "duration": 19,
    "start_time": "2023-02-13T20:09:27.345Z"
   },
   {
    "duration": 3,
    "start_time": "2023-02-13T20:09:40.859Z"
   },
   {
    "duration": 16,
    "start_time": "2023-02-13T20:09:41.652Z"
   },
   {
    "duration": 3,
    "start_time": "2023-02-13T20:10:15.121Z"
   },
   {
    "duration": 20,
    "start_time": "2023-02-13T20:10:15.728Z"
   },
   {
    "duration": 4,
    "start_time": "2023-02-13T20:10:47.295Z"
   },
   {
    "duration": 4332,
    "start_time": "2023-02-13T20:10:47.919Z"
   },
   {
    "duration": 4343,
    "start_time": "2023-02-13T20:10:56.916Z"
   },
   {
    "duration": 77,
    "start_time": "2023-02-13T20:12:29.933Z"
   },
   {
    "duration": 1165,
    "start_time": "2023-02-13T20:12:35.887Z"
   },
   {
    "duration": 346,
    "start_time": "2023-02-13T20:12:37.054Z"
   },
   {
    "duration": 35,
    "start_time": "2023-02-13T20:12:37.402Z"
   },
   {
    "duration": 10,
    "start_time": "2023-02-13T20:12:37.439Z"
   },
   {
    "duration": 70,
    "start_time": "2023-02-13T20:12:37.451Z"
   },
   {
    "duration": 111,
    "start_time": "2023-02-13T20:12:37.523Z"
   },
   {
    "duration": 30,
    "start_time": "2023-02-13T20:12:37.636Z"
   },
   {
    "duration": 24,
    "start_time": "2023-02-13T20:12:37.667Z"
   },
   {
    "duration": 19,
    "start_time": "2023-02-13T20:12:37.693Z"
   },
   {
    "duration": 595,
    "start_time": "2023-02-13T20:12:37.715Z"
   },
   {
    "duration": 114,
    "start_time": "2023-02-13T20:12:38.312Z"
   },
   {
    "duration": 1,
    "start_time": "2023-02-13T20:12:38.427Z"
   },
   {
    "duration": 0,
    "start_time": "2023-02-13T20:12:38.429Z"
   },
   {
    "duration": 0,
    "start_time": "2023-02-13T20:12:38.430Z"
   },
   {
    "duration": 4,
    "start_time": "2023-02-13T20:13:55.229Z"
   },
   {
    "duration": 4718,
    "start_time": "2023-02-13T20:13:56.975Z"
   },
   {
    "duration": 4543,
    "start_time": "2023-02-13T20:14:03.869Z"
   },
   {
    "duration": 3,
    "start_time": "2023-02-13T20:14:28.369Z"
   },
   {
    "duration": 5027,
    "start_time": "2023-02-13T20:14:29.298Z"
   },
   {
    "duration": 246,
    "start_time": "2023-02-13T20:14:35.505Z"
   },
   {
    "duration": 87,
    "start_time": "2023-02-13T20:14:55.367Z"
   },
   {
    "duration": 4,
    "start_time": "2023-02-13T20:14:57.978Z"
   },
   {
    "duration": 3,
    "start_time": "2023-02-13T20:15:00.445Z"
   },
   {
    "duration": 4,
    "start_time": "2023-02-13T20:15:33.763Z"
   },
   {
    "duration": 5004,
    "start_time": "2023-02-13T20:15:34.597Z"
   },
   {
    "duration": 84,
    "start_time": "2023-02-13T20:15:39.603Z"
   },
   {
    "duration": 4,
    "start_time": "2023-02-13T20:15:48.326Z"
   },
   {
    "duration": 4,
    "start_time": "2023-02-13T20:16:27.568Z"
   },
   {
    "duration": 4971,
    "start_time": "2023-02-13T20:16:28.365Z"
   },
   {
    "duration": 92,
    "start_time": "2023-02-13T20:16:33.338Z"
   },
   {
    "duration": 1112,
    "start_time": "2023-02-13T20:23:50.892Z"
   },
   {
    "duration": 348,
    "start_time": "2023-02-13T20:23:52.006Z"
   },
   {
    "duration": 35,
    "start_time": "2023-02-13T20:23:52.356Z"
   },
   {
    "duration": 22,
    "start_time": "2023-02-13T20:23:52.392Z"
   },
   {
    "duration": 54,
    "start_time": "2023-02-13T20:23:52.416Z"
   },
   {
    "duration": 114,
    "start_time": "2023-02-13T20:23:52.472Z"
   },
   {
    "duration": 40,
    "start_time": "2023-02-13T20:23:52.587Z"
   },
   {
    "duration": 25,
    "start_time": "2023-02-13T20:23:52.628Z"
   },
   {
    "duration": 4,
    "start_time": "2023-02-13T20:23:52.655Z"
   },
   {
    "duration": 551,
    "start_time": "2023-02-13T20:23:52.661Z"
   },
   {
    "duration": 4,
    "start_time": "2023-02-13T20:23:53.214Z"
   },
   {
    "duration": 7,
    "start_time": "2023-02-13T20:23:53.220Z"
   },
   {
    "duration": 1789,
    "start_time": "2023-02-13T20:23:53.229Z"
   },
   {
    "duration": 1057,
    "start_time": "2023-02-13T20:24:08.137Z"
   },
   {
    "duration": 349,
    "start_time": "2023-02-13T20:24:09.196Z"
   },
   {
    "duration": 32,
    "start_time": "2023-02-13T20:24:09.546Z"
   },
   {
    "duration": 11,
    "start_time": "2023-02-13T20:24:09.581Z"
   },
   {
    "duration": 66,
    "start_time": "2023-02-13T20:24:09.594Z"
   },
   {
    "duration": 112,
    "start_time": "2023-02-13T20:24:09.662Z"
   },
   {
    "duration": 44,
    "start_time": "2023-02-13T20:24:09.776Z"
   },
   {
    "duration": 22,
    "start_time": "2023-02-13T20:24:09.822Z"
   },
   {
    "duration": 4,
    "start_time": "2023-02-13T20:24:09.846Z"
   },
   {
    "duration": 465,
    "start_time": "2023-02-13T20:24:09.852Z"
   },
   {
    "duration": 92,
    "start_time": "2023-02-13T20:24:10.319Z"
   },
   {
    "duration": 9,
    "start_time": "2023-02-13T20:24:10.413Z"
   },
   {
    "duration": 1735,
    "start_time": "2023-02-13T20:24:10.423Z"
   },
   {
    "duration": 1674,
    "start_time": "2023-02-13T20:24:26.475Z"
   },
   {
    "duration": 100,
    "start_time": "2023-02-13T20:24:45.159Z"
   },
   {
    "duration": 4908,
    "start_time": "2023-02-13T20:25:22.763Z"
   },
   {
    "duration": 2659,
    "start_time": "2023-02-13T21:49:52.614Z"
   },
   {
    "duration": 436,
    "start_time": "2023-02-13T21:49:55.275Z"
   },
   {
    "duration": 40,
    "start_time": "2023-02-13T21:49:55.712Z"
   },
   {
    "duration": 12,
    "start_time": "2023-02-13T21:49:55.754Z"
   },
   {
    "duration": 72,
    "start_time": "2023-02-13T21:49:55.768Z"
   },
   {
    "duration": 119,
    "start_time": "2023-02-13T21:49:55.842Z"
   },
   {
    "duration": 34,
    "start_time": "2023-02-13T21:49:55.963Z"
   },
   {
    "duration": 47,
    "start_time": "2023-02-13T21:49:55.998Z"
   },
   {
    "duration": 9,
    "start_time": "2023-02-13T21:49:56.047Z"
   },
   {
    "duration": 493,
    "start_time": "2023-02-13T21:49:56.058Z"
   },
   {
    "duration": 5,
    "start_time": "2023-02-13T21:49:56.637Z"
   },
   {
    "duration": 26,
    "start_time": "2023-02-13T21:49:56.643Z"
   },
   {
    "duration": 5661,
    "start_time": "2023-02-13T21:49:56.671Z"
   },
   {
    "duration": 9,
    "start_time": "2023-02-13T21:51:00.909Z"
   },
   {
    "duration": 8,
    "start_time": "2023-02-13T21:51:04.719Z"
   },
   {
    "duration": 5423,
    "start_time": "2023-02-13T21:51:31.466Z"
   },
   {
    "duration": 9,
    "start_time": "2023-02-13T21:51:41.569Z"
   },
   {
    "duration": 9,
    "start_time": "2023-02-13T21:51:45.289Z"
   },
   {
    "duration": 95,
    "start_time": "2023-02-13T21:52:00.159Z"
   },
   {
    "duration": 9,
    "start_time": "2023-02-13T21:52:04.559Z"
   },
   {
    "duration": 12,
    "start_time": "2023-02-13T21:52:08.209Z"
   },
   {
    "duration": 10,
    "start_time": "2023-02-13T21:52:14.188Z"
   },
   {
    "duration": 9,
    "start_time": "2023-02-13T21:52:21.679Z"
   },
   {
    "duration": 8,
    "start_time": "2023-02-13T21:52:34.088Z"
   },
   {
    "duration": 8,
    "start_time": "2023-02-13T21:52:37.440Z"
   },
   {
    "duration": 4114,
    "start_time": "2023-02-13T21:52:51.401Z"
   },
   {
    "duration": 4,
    "start_time": "2023-02-13T21:53:19.724Z"
   },
   {
    "duration": 4616,
    "start_time": "2023-02-13T21:53:20.403Z"
   },
   {
    "duration": 98,
    "start_time": "2023-02-13T21:53:56.838Z"
   },
   {
    "duration": 9,
    "start_time": "2023-02-13T21:54:33.292Z"
   },
   {
    "duration": 8,
    "start_time": "2023-02-13T21:54:38.027Z"
   },
   {
    "duration": 9,
    "start_time": "2023-02-13T21:54:39.579Z"
   },
   {
    "duration": 3,
    "start_time": "2023-02-13T21:54:48.920Z"
   },
   {
    "duration": 4675,
    "start_time": "2023-02-13T21:54:49.489Z"
   },
   {
    "duration": 4,
    "start_time": "2023-02-13T21:54:57.140Z"
   },
   {
    "duration": 4692,
    "start_time": "2023-02-13T21:54:58.679Z"
   },
   {
    "duration": 4,
    "start_time": "2023-02-13T21:55:09.988Z"
   },
   {
    "duration": 3,
    "start_time": "2023-02-13T21:55:25.433Z"
   },
   {
    "duration": 4804,
    "start_time": "2023-02-13T21:55:25.810Z"
   },
   {
    "duration": 3,
    "start_time": "2023-02-13T21:55:30.732Z"
   },
   {
    "duration": 4674,
    "start_time": "2023-02-13T21:55:31.099Z"
   },
   {
    "duration": 3,
    "start_time": "2023-02-13T21:55:45.859Z"
   },
   {
    "duration": 4966,
    "start_time": "2023-02-13T21:55:46.636Z"
   },
   {
    "duration": 3,
    "start_time": "2023-02-13T22:00:03.803Z"
   },
   {
    "duration": 5752,
    "start_time": "2023-02-13T22:00:03.808Z"
   },
   {
    "duration": 1123,
    "start_time": "2023-02-14T06:04:15.177Z"
   },
   {
    "duration": 904,
    "start_time": "2023-02-14T06:04:16.302Z"
   },
   {
    "duration": 33,
    "start_time": "2023-02-14T06:04:17.208Z"
   },
   {
    "duration": 11,
    "start_time": "2023-02-14T06:04:17.243Z"
   },
   {
    "duration": 73,
    "start_time": "2023-02-14T06:04:17.257Z"
   },
   {
    "duration": 112,
    "start_time": "2023-02-14T06:04:17.332Z"
   },
   {
    "duration": 27,
    "start_time": "2023-02-14T06:04:17.446Z"
   },
   {
    "duration": 39,
    "start_time": "2023-02-14T06:04:17.475Z"
   },
   {
    "duration": 4,
    "start_time": "2023-02-14T06:04:17.516Z"
   },
   {
    "duration": 501,
    "start_time": "2023-02-14T06:04:17.522Z"
   },
   {
    "duration": 5,
    "start_time": "2023-02-14T06:04:18.025Z"
   },
   {
    "duration": 4,
    "start_time": "2023-02-14T06:04:18.110Z"
   },
   {
    "duration": 117,
    "start_time": "2023-02-14T06:04:18.115Z"
   },
   {
    "duration": 12,
    "start_time": "2023-02-14T06:04:28.304Z"
   },
   {
    "duration": 16,
    "start_time": "2023-02-14T06:04:48.105Z"
   },
   {
    "duration": 1158,
    "start_time": "2023-02-14T06:04:57.647Z"
   },
   {
    "duration": 335,
    "start_time": "2023-02-14T06:04:58.807Z"
   },
   {
    "duration": 46,
    "start_time": "2023-02-14T06:04:59.144Z"
   },
   {
    "duration": 13,
    "start_time": "2023-02-14T06:04:59.192Z"
   },
   {
    "duration": 65,
    "start_time": "2023-02-14T06:04:59.211Z"
   },
   {
    "duration": 112,
    "start_time": "2023-02-14T06:04:59.278Z"
   },
   {
    "duration": 43,
    "start_time": "2023-02-14T06:04:59.392Z"
   },
   {
    "duration": 172,
    "start_time": "2023-02-14T06:04:59.438Z"
   },
   {
    "duration": 5,
    "start_time": "2023-02-14T06:04:59.611Z"
   },
   {
    "duration": 494,
    "start_time": "2023-02-14T06:04:59.618Z"
   },
   {
    "duration": 5,
    "start_time": "2023-02-14T06:05:00.114Z"
   },
   {
    "duration": 91,
    "start_time": "2023-02-14T06:05:00.120Z"
   },
   {
    "duration": 142,
    "start_time": "2023-02-14T06:05:00.213Z"
   },
   {
    "duration": 102,
    "start_time": "2023-02-15T16:56:34.497Z"
   },
   {
    "duration": 1034,
    "start_time": "2023-02-15T16:57:08.211Z"
   },
   {
    "duration": 1637,
    "start_time": "2023-02-15T16:57:09.247Z"
   },
   {
    "duration": 37,
    "start_time": "2023-02-15T16:57:10.886Z"
   },
   {
    "duration": 13,
    "start_time": "2023-02-15T16:57:10.925Z"
   },
   {
    "duration": 114,
    "start_time": "2023-02-15T16:57:11.072Z"
   },
   {
    "duration": 57,
    "start_time": "2023-02-15T16:57:43.000Z"
   },
   {
    "duration": 116,
    "start_time": "2023-02-15T16:57:45.000Z"
   },
   {
    "duration": 32,
    "start_time": "2023-02-15T16:57:47.080Z"
   },
   {
    "duration": 26,
    "start_time": "2023-02-15T16:57:47.563Z"
   },
   {
    "duration": 4,
    "start_time": "2023-02-15T16:57:50.793Z"
   },
   {
    "duration": 618,
    "start_time": "2023-02-15T16:57:52.438Z"
   },
   {
    "duration": 11,
    "start_time": "2023-02-15T17:01:16.428Z"
   },
   {
    "duration": 4,
    "start_time": "2023-02-15T17:01:34.174Z"
   },
   {
    "duration": 18,
    "start_time": "2023-02-15T17:02:05.355Z"
   },
   {
    "duration": 13,
    "start_time": "2023-02-15T17:02:21.723Z"
   },
   {
    "duration": 6,
    "start_time": "2023-02-15T17:02:26.220Z"
   },
   {
    "duration": 4,
    "start_time": "2023-02-15T17:02:26.929Z"
   },
   {
    "duration": 1139,
    "start_time": "2023-02-15T17:02:30.426Z"
   },
   {
    "duration": 420,
    "start_time": "2023-02-15T17:02:31.567Z"
   },
   {
    "duration": 38,
    "start_time": "2023-02-15T17:02:31.989Z"
   },
   {
    "duration": 19,
    "start_time": "2023-02-15T17:02:32.029Z"
   },
   {
    "duration": 52,
    "start_time": "2023-02-15T17:02:32.050Z"
   },
   {
    "duration": 130,
    "start_time": "2023-02-15T17:02:32.103Z"
   },
   {
    "duration": 43,
    "start_time": "2023-02-15T17:02:32.235Z"
   },
   {
    "duration": 29,
    "start_time": "2023-02-15T17:02:32.280Z"
   },
   {
    "duration": 5,
    "start_time": "2023-02-15T17:02:32.311Z"
   },
   {
    "duration": 633,
    "start_time": "2023-02-15T17:02:32.317Z"
   },
   {
    "duration": 5,
    "start_time": "2023-02-15T17:02:32.952Z"
   },
   {
    "duration": 38,
    "start_time": "2023-02-15T17:02:32.959Z"
   },
   {
    "duration": 129,
    "start_time": "2023-02-15T17:02:32.999Z"
   },
   {
    "duration": 4,
    "start_time": "2023-02-15T17:02:59.231Z"
   },
   {
    "duration": 25,
    "start_time": "2023-02-15T17:03:00.043Z"
   },
   {
    "duration": 4,
    "start_time": "2023-02-15T17:03:39.512Z"
   },
   {
    "duration": 9,
    "start_time": "2023-02-15T17:03:57.623Z"
   },
   {
    "duration": 8,
    "start_time": "2023-02-15T17:04:20.006Z"
   },
   {
    "duration": 10,
    "start_time": "2023-02-15T17:04:27.671Z"
   },
   {
    "duration": 12,
    "start_time": "2023-02-15T17:04:44.814Z"
   },
   {
    "duration": 12,
    "start_time": "2023-02-15T17:05:03.386Z"
   },
   {
    "duration": 4,
    "start_time": "2023-02-15T17:06:09.671Z"
   },
   {
    "duration": 5,
    "start_time": "2023-02-15T17:06:13.626Z"
   },
   {
    "duration": 5,
    "start_time": "2023-02-15T17:06:37.599Z"
   },
   {
    "duration": 20,
    "start_time": "2023-02-15T17:06:54.266Z"
   },
   {
    "duration": 4,
    "start_time": "2023-02-15T17:07:04.833Z"
   },
   {
    "duration": 11,
    "start_time": "2023-02-15T17:07:05.413Z"
   },
   {
    "duration": 3,
    "start_time": "2023-02-15T17:07:26.481Z"
   },
   {
    "duration": 8,
    "start_time": "2023-02-15T17:07:27.326Z"
   },
   {
    "duration": 5,
    "start_time": "2023-02-15T17:07:37.573Z"
   },
   {
    "duration": 11,
    "start_time": "2023-02-15T17:07:38.406Z"
   },
   {
    "duration": 7,
    "start_time": "2023-02-15T17:07:45.948Z"
   },
   {
    "duration": 10,
    "start_time": "2023-02-15T17:07:46.563Z"
   },
   {
    "duration": 4,
    "start_time": "2023-02-15T17:07:58.579Z"
   },
   {
    "duration": 12,
    "start_time": "2023-02-15T17:07:59.245Z"
   },
   {
    "duration": 4,
    "start_time": "2023-02-15T17:08:07.231Z"
   },
   {
    "duration": 11,
    "start_time": "2023-02-15T17:08:07.630Z"
   },
   {
    "duration": 6,
    "start_time": "2023-02-15T17:08:12.752Z"
   },
   {
    "duration": 7,
    "start_time": "2023-02-15T17:08:13.502Z"
   },
   {
    "duration": 17,
    "start_time": "2023-02-15T17:08:19.172Z"
   },
   {
    "duration": 86,
    "start_time": "2023-02-15T17:08:22.797Z"
   },
   {
    "duration": 5,
    "start_time": "2023-02-15T17:08:25.448Z"
   },
   {
    "duration": 10,
    "start_time": "2023-02-15T17:08:26.258Z"
   },
   {
    "duration": 6282,
    "start_time": "2023-02-15T17:08:33.625Z"
   },
   {
    "duration": 6889,
    "start_time": "2023-02-15T17:09:38.566Z"
   },
   {
    "duration": 6399,
    "start_time": "2023-02-15T17:12:29.546Z"
   },
   {
    "duration": 2128,
    "start_time": "2023-02-15T17:13:14.128Z"
   },
   {
    "duration": 2077,
    "start_time": "2023-02-15T17:13:44.845Z"
   },
   {
    "duration": 2194,
    "start_time": "2023-02-15T17:13:53.726Z"
   },
   {
    "duration": 2033,
    "start_time": "2023-02-15T17:14:00.176Z"
   },
   {
    "duration": 5994,
    "start_time": "2023-02-15T17:22:17.959Z"
   },
   {
    "duration": 6039,
    "start_time": "2023-02-15T17:25:28.800Z"
   },
   {
    "duration": 6226,
    "start_time": "2023-02-15T17:26:01.216Z"
   },
   {
    "duration": 6182,
    "start_time": "2023-02-15T17:26:46.666Z"
   },
   {
    "duration": 6187,
    "start_time": "2023-02-15T17:27:42.691Z"
   },
   {
    "duration": 6269,
    "start_time": "2023-02-15T17:28:08.051Z"
   },
   {
    "duration": 6121,
    "start_time": "2023-02-15T17:28:51.504Z"
   },
   {
    "duration": 6,
    "start_time": "2023-02-15T17:29:48.141Z"
   },
   {
    "duration": 6,
    "start_time": "2023-02-15T17:29:51.870Z"
   },
   {
    "duration": 6054,
    "start_time": "2023-02-15T17:30:09.213Z"
   },
   {
    "duration": 100,
    "start_time": "2023-02-15T17:31:59.065Z"
   },
   {
    "duration": 73,
    "start_time": "2023-02-15T17:32:09.450Z"
   },
   {
    "duration": 6052,
    "start_time": "2023-02-15T17:32:48.195Z"
   },
   {
    "duration": 5987,
    "start_time": "2023-02-15T17:32:55.776Z"
   },
   {
    "duration": 6071,
    "start_time": "2023-02-15T17:33:25.305Z"
   },
   {
    "duration": 75,
    "start_time": "2023-02-15T17:33:43.469Z"
   },
   {
    "duration": 6035,
    "start_time": "2023-02-15T17:34:48.009Z"
   },
   {
    "duration": 78,
    "start_time": "2023-02-15T17:36:33.096Z"
   },
   {
    "duration": 6,
    "start_time": "2023-02-15T17:36:39.612Z"
   },
   {
    "duration": 82,
    "start_time": "2023-02-15T17:36:42.585Z"
   },
   {
    "duration": 2003,
    "start_time": "2023-02-15T17:37:53.278Z"
   },
   {
    "duration": 6,
    "start_time": "2023-02-15T17:38:07.500Z"
   },
   {
    "duration": 6129,
    "start_time": "2023-02-15T17:38:11.879Z"
   }
  ],
  "kernelspec": {
   "display_name": "Python 3 (ipykernel)",
   "language": "python",
   "name": "python3"
  },
  "language_info": {
   "codemirror_mode": {
    "name": "ipython",
    "version": 3
   },
   "file_extension": ".py",
   "mimetype": "text/x-python",
   "name": "python",
   "nbconvert_exporter": "python",
   "pygments_lexer": "ipython3",
   "version": "3.9.13"
  },
  "toc": {
   "base_numbering": 1,
   "nav_menu": {},
   "number_sections": true,
   "sideBar": true,
   "skip_h1_title": true,
   "title_cell": "Table of Contents",
   "title_sidebar": "Contents",
   "toc_cell": false,
   "toc_position": {},
   "toc_section_display": true,
   "toc_window_display": false
  }
 },
 "nbformat": 4,
 "nbformat_minor": 2
}
